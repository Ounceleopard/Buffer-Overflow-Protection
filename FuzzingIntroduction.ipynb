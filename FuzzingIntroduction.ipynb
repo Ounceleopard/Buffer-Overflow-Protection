{
  "nbformat": 4,
  "nbformat_minor": 0,
  "metadata": {
    "ipub": {
      "bibliography": "fuzzingbook.bib",
      "toc": true
    },
    "kernelspec": {
      "display_name": "Python 3 (ipykernel)",
      "language": "python",
      "name": "python3"
    },
    "language_info": {
      "codemirror_mode": {
        "name": "ipython",
        "version": 3
      },
      "file_extension": ".py",
      "mimetype": "text/x-python",
      "name": "python",
      "nbconvert_exporter": "python",
      "pygments_lexer": "ipython3",
      "version": "3.9.7"
    },
    "toc": {
      "base_numbering": 1,
      "nav_menu": {},
      "number_sections": true,
      "sideBar": true,
      "skip_h1_title": true,
      "title_cell": "",
      "title_sidebar": "Contents",
      "toc_cell": false,
      "toc_position": {},
      "toc_section_display": true,
      "toc_window_display": true
    },
    "toc-autonumbering": false,
    "colab": {
      "name": "FuzzingIntroduction.ipynb",
      "provenance": [],
      "collapsed_sections": [
        "bCdyG6kmhcKi",
        "U3uV4FH_hcLN",
        "n52k8RbXhcLm",
        "48rMUyH7hcMD",
        "qeTTsuQbhcMT",
        "DoRJBhKfhcMU",
        "vs3ZSZ_JhcNN",
        "dyV8jtPthcNf",
        "jX3HhyPPhcOF",
        "mgrdmCluhcOR",
        "FrojtCdHhcOl",
        "L5H0kCBhhcO3",
        "A9OV10DwhcO-",
        "lrRFRxk1hcPN",
        "jS08nioChcPY",
        "5eg9yt08hcPk"
      ]
    }
  },
  "cells": [
    {
      "cell_type": "markdown",
      "metadata": {
        "button": false,
        "new_sheet": false,
        "run_control": {
          "read_only": false
        },
        "id": "HcXDWcsrhcG_"
      },
      "source": [
        "# Fuzzing: Breaking Things with Random Inputs\n",
        "\n",
        "Content and code adapted from fuzzingbook.org and shared under the same license conditions. [License](https://github.com/uds-se/fuzzingbook/blob/master/LICENSE.md)\n",
        "\n",
        "The key idea of random text generation, also known as *fuzzing*, is to feed a _string of random characters_ into a program in the hope to uncover failures."
      ]
    },
    {
      "cell_type": "markdown",
      "metadata": {
        "id": "Po64DZaG3ki1"
      },
      "source": [
        "Install the fuzzingbook package for python through pip."
      ]
    },
    {
      "cell_type": "code",
      "metadata": {
        "id": "8DG2ANibqcDp"
      },
      "source": [
        "!pip install fuzzingbook"
      ],
      "execution_count": null,
      "outputs": []
    },
    {
      "cell_type": "markdown",
      "metadata": {
        "button": false,
        "new_sheet": false,
        "run_control": {
          "read_only": false
        },
        "id": "VtA8Ab1EhcI0"
      },
      "source": [
        "## A Simple Fuzzer\n",
        "\n",
        "Let us try to build a fuzz generator.  The idea is to produce random characters, adding them to a buffer string variable (`out`), and finally returning the string."
      ]
    },
    {
      "cell_type": "markdown",
      "metadata": {
        "button": false,
        "new_sheet": false,
        "run_control": {
          "read_only": false
        },
        "id": "4vvVbj8vhcI4"
      },
      "source": [
        "This implementation uses the following Python features and functions:\n",
        "\n",
        "* `random.randrange(start, end)` – return a random number $[$ `start`, `end` $)$\n",
        "* `range(start, end)` – create a list with integers in the range $[$ `start`, `end` $)$.  Typically used in iterations.\n",
        "* `for elem in list: body` – execute `body` in a loop with `elem` taking each value from `list`.\n",
        "* `for i in range(start, end): body` – execute `body` in a loop with `i` from `start` to `end` $-$ 1.\n",
        "* `chr(n)` – return a character with ASCII code `n`"
      ]
    },
    {
      "cell_type": "markdown",
      "metadata": {
        "button": false,
        "new_sheet": false,
        "run_control": {
          "read_only": false
        },
        "id": "9qN-1oD5hcI7"
      },
      "source": [
        "To use random numbers, we have to import the respective module."
      ]
    },
    {
      "cell_type": "code",
      "metadata": {
        "button": false,
        "execution": {
          "iopub.execute_input": "2021-06-02T15:40:40.677312Z",
          "iopub.status.busy": "2021-06-02T15:40:40.676640Z",
          "iopub.status.idle": "2021-06-02T15:40:40.678135Z",
          "shell.execute_reply": "2021-06-02T15:40:40.678505Z"
        },
        "new_sheet": false,
        "run_control": {
          "read_only": false
        },
        "id": "HMr8tszchcI-"
      },
      "source": [
        "import random"
      ],
      "execution_count": null,
      "outputs": []
    },
    {
      "cell_type": "markdown",
      "metadata": {
        "button": false,
        "new_sheet": false,
        "run_control": {
          "read_only": false
        },
        "id": "LB7OgWFwhcJB"
      },
      "source": [
        "Here comes the actual `fuzzer()` function."
      ]
    },
    {
      "cell_type": "code",
      "metadata": {
        "button": false,
        "code_folding": [],
        "execution": {
          "iopub.execute_input": "2021-06-02T15:40:40.682494Z",
          "iopub.status.busy": "2021-06-02T15:40:40.681910Z",
          "iopub.status.idle": "2021-06-02T15:40:40.683468Z",
          "shell.execute_reply": "2021-06-02T15:40:40.683827Z"
        },
        "new_sheet": false,
        "run_control": {
          "read_only": false
        },
        "id": "WfYD1-ethcJC"
      },
      "source": [
        "def fuzzer(max_length=100, char_start=32, char_range=32):\n",
        "    \"\"\"A string of up to `max_length` characters\n",
        "       in the range [`char_start`, `char_start` + `char_range`]\"\"\"\n",
        "    string_length = random.randrange(0, max_length + 1)\n",
        "    out = \"\"\n",
        "    for i in range(0, string_length):\n",
        "        out += chr(random.randrange(char_start, char_start + char_range))\n",
        "    return out"
      ],
      "execution_count": null,
      "outputs": []
    },
    {
      "cell_type": "markdown",
      "metadata": {
        "button": false,
        "new_sheet": false,
        "run_control": {
          "read_only": false
        },
        "id": "nw-2_N6qhcJF"
      },
      "source": [
        "With its default arguments, the `fuzzer()` function returns a string of random characters:"
      ]
    },
    {
      "cell_type": "code",
      "metadata": {
        "button": false,
        "execution": {
          "iopub.execute_input": "2021-06-02T15:40:40.691459Z",
          "iopub.status.busy": "2021-06-02T15:40:40.690924Z",
          "iopub.status.idle": "2021-06-02T15:40:40.693851Z",
          "shell.execute_reply": "2021-06-02T15:40:40.694219Z"
        },
        "new_sheet": false,
        "run_control": {
          "read_only": false
        },
        "id": "mLfA2UVshcJI"
      },
      "source": [
        "fuzzer()"
      ],
      "execution_count": null,
      "outputs": []
    },
    {
      "cell_type": "markdown",
      "metadata": {
        "button": false,
        "new_sheet": false,
        "run_control": {
          "read_only": false
        },
        "id": "BbA0UeFihcJR"
      },
      "source": [
        "Bart Miller coined the term \"fuzz\" as the name for such random, unstructured data.  Now imagine that this \"fuzz\" string was the input to a program expecting a specific input format – say, a comma-separated list of values, or an e-mail address.  Would the program be able to process such an input without any problems?"
      ]
    },
    {
      "cell_type": "markdown",
      "metadata": {
        "button": false,
        "new_sheet": false,
        "run_control": {
          "read_only": false
        },
        "id": "vJ8VklD1hcJS"
      },
      "source": [
        "If the above fuzzing input already is intriguing, consider that fuzzing can easily be set up to produce other kinds of input.  For instance, we can also have `fuzzer()` produce a series of lowercase letters.  We use `ord(c)` to return the ASCII code of the character `c`."
      ]
    },
    {
      "cell_type": "code",
      "metadata": {
        "button": false,
        "execution": {
          "iopub.execute_input": "2021-06-02T15:40:40.698257Z",
          "iopub.status.busy": "2021-06-02T15:40:40.697745Z",
          "iopub.status.idle": "2021-06-02T15:40:40.700143Z",
          "shell.execute_reply": "2021-06-02T15:40:40.700581Z"
        },
        "new_sheet": false,
        "run_control": {
          "read_only": false
        },
        "id": "G1GyLtqehcJU"
      },
      "source": [
        "fuzzer(1000, ord('a'), 26)"
      ],
      "execution_count": null,
      "outputs": []
    },
    {
      "cell_type": "markdown",
      "metadata": {
        "button": false,
        "new_sheet": false,
        "run_control": {
          "read_only": false
        },
        "id": "Y3GFKv59hcJd"
      },
      "source": [
        "Assume a program expects an identifier as its input.  Would it expect such a long identifier?"
      ]
    },
    {
      "cell_type": "markdown",
      "metadata": {
        "button": false,
        "new_sheet": false,
        "run_control": {
          "read_only": false
        },
        "id": "ct6tFYe2hcJj"
      },
      "source": [
        "## Fuzzing External Programs\n",
        "\n",
        "Let us see what happens if we actually invoke an external program with fuzzed inputs.  To this end, let us proceed in two steps.  First, we create an _input file_ with fuzzed test data; then we feed this input file into a program of choice."
      ]
    },
    {
      "cell_type": "markdown",
      "metadata": {
        "button": false,
        "new_sheet": false,
        "run_control": {
          "read_only": false
        },
        "id": "dYFTU8pchcJk"
      },
      "source": [
        "### Creating Input Files\n",
        "\n",
        "Let us obtain a temporary file name such that we do not clutter the file system."
      ]
    },
    {
      "cell_type": "code",
      "metadata": {
        "button": false,
        "execution": {
          "iopub.execute_input": "2021-06-02T15:40:40.703840Z",
          "iopub.status.busy": "2021-06-02T15:40:40.703207Z",
          "iopub.status.idle": "2021-06-02T15:40:40.704882Z",
          "shell.execute_reply": "2021-06-02T15:40:40.705478Z"
        },
        "new_sheet": false,
        "run_control": {
          "read_only": false
        },
        "id": "soZVD-wmhcJm"
      },
      "source": [
        "import os\n",
        "import tempfile"
      ],
      "execution_count": null,
      "outputs": []
    },
    {
      "cell_type": "code",
      "metadata": {
        "button": false,
        "execution": {
          "iopub.execute_input": "2021-06-02T15:40:40.709011Z",
          "iopub.status.busy": "2021-06-02T15:40:40.708484Z",
          "iopub.status.idle": "2021-06-02T15:40:40.711668Z",
          "shell.execute_reply": "2021-06-02T15:40:40.712045Z"
        },
        "new_sheet": false,
        "run_control": {
          "read_only": false
        },
        "id": "CyTt_vN4hcJu"
      },
      "source": [
        "basename = \"input.txt\"\n",
        "tempdir = tempfile.mkdtemp()\n",
        "FILE = os.path.join(tempdir, basename)\n",
        "print(FILE)"
      ],
      "execution_count": null,
      "outputs": []
    },
    {
      "cell_type": "markdown",
      "metadata": {
        "button": false,
        "new_sheet": false,
        "run_control": {
          "read_only": false
        },
        "id": "JqQgbh_PhcKE"
      },
      "source": [
        "We can now open this file for writing.  The Python `open()` function opens a file into which we can then write arbitrary contents.  It is commonly used in conjunction with the `with` statement, which ensures that the file is closed as soon as it is no longer needed."
      ]
    },
    {
      "cell_type": "code",
      "metadata": {
        "button": false,
        "execution": {
          "iopub.execute_input": "2021-06-02T15:40:40.715246Z",
          "iopub.status.busy": "2021-06-02T15:40:40.714732Z",
          "iopub.status.idle": "2021-06-02T15:40:40.716676Z",
          "shell.execute_reply": "2021-06-02T15:40:40.717062Z"
        },
        "new_sheet": false,
        "run_control": {
          "read_only": false
        },
        "id": "BnGiyP-LhcKF"
      },
      "source": [
        "data = fuzzer()\n",
        "with open(FILE, \"w\") as f:\n",
        "    f.write(data)"
      ],
      "execution_count": null,
      "outputs": []
    },
    {
      "cell_type": "markdown",
      "metadata": {
        "button": false,
        "new_sheet": false,
        "run_control": {
          "read_only": false
        },
        "id": "av1fP7qthcKI"
      },
      "source": [
        "We can verify that the file was actually created by reading its contents:"
      ]
    },
    {
      "cell_type": "code",
      "metadata": {
        "button": false,
        "execution": {
          "iopub.execute_input": "2021-06-02T15:40:40.720727Z",
          "iopub.status.busy": "2021-06-02T15:40:40.720176Z",
          "iopub.status.idle": "2021-06-02T15:40:40.722601Z",
          "shell.execute_reply": "2021-06-02T15:40:40.723065Z"
        },
        "new_sheet": false,
        "run_control": {
          "read_only": false
        },
        "id": "8sB3NrDGhcKL"
      },
      "source": [
        "contents = open(FILE).read()\n",
        "print(contents)\n",
        "assert(contents == data)"
      ],
      "execution_count": null,
      "outputs": []
    },
    {
      "cell_type": "markdown",
      "metadata": {
        "button": false,
        "new_sheet": false,
        "run_control": {
          "read_only": false
        },
        "id": "st6xo3adhcKP"
      },
      "source": [
        "### Invoking External Programs\n",
        "\n",
        "Now that we have an input file, we can invoke a program on it.  For the fun of it, let us test the `bc` calculator program, which takes an arithmetic expression and evaluates it.\n",
        "\n",
        "To invoke `bc`, let us use the Python `subprocess` module.  This is how this works:\n"
      ]
    },
    {
      "cell_type": "code",
      "metadata": {
        "button": false,
        "execution": {
          "iopub.execute_input": "2021-06-02T15:40:40.726325Z",
          "iopub.status.busy": "2021-06-02T15:40:40.725767Z",
          "iopub.status.idle": "2021-06-02T15:40:40.727341Z",
          "shell.execute_reply": "2021-06-02T15:40:40.727833Z"
        },
        "new_sheet": false,
        "run_control": {
          "read_only": false
        },
        "id": "34H7x7REhcKQ"
      },
      "source": [
        "import os\n",
        "import subprocess"
      ],
      "execution_count": null,
      "outputs": []
    },
    {
      "cell_type": "markdown",
      "metadata": {
        "id": "EkSRh9E232jt"
      },
      "source": [
        "Install the bc program through apt"
      ]
    },
    {
      "cell_type": "code",
      "metadata": {
        "id": "hoGwOHsZptN2"
      },
      "source": [
        "!apt-get install bc"
      ],
      "execution_count": null,
      "outputs": []
    },
    {
      "cell_type": "code",
      "metadata": {
        "button": false,
        "execution": {
          "iopub.execute_input": "2021-06-02T15:40:40.731352Z",
          "iopub.status.busy": "2021-06-02T15:40:40.730834Z",
          "iopub.status.idle": "2021-06-02T15:40:40.741736Z",
          "shell.execute_reply": "2021-06-02T15:40:40.742135Z"
        },
        "new_sheet": false,
        "run_control": {
          "read_only": false
        },
        "id": "Ky8B9bJnhcKT"
      },
      "source": [
        "program = \"bc\"\n",
        "with open(FILE, \"w\") as f:\n",
        "    f.write(\"2 + 2\\n\")\n",
        "result = subprocess.run([program, FILE],\n",
        "                        stdin=subprocess.DEVNULL,\n",
        "                        stdout=subprocess.PIPE,\n",
        "                        stderr=subprocess.PIPE,\n",
        "                        universal_newlines=True)  # Will be \"text\" in Python 3.7"
      ],
      "execution_count": null,
      "outputs": []
    },
    {
      "cell_type": "markdown",
      "metadata": {
        "button": false,
        "new_sheet": false,
        "run_control": {
          "read_only": false
        },
        "id": "0AVYoEQmhcKV"
      },
      "source": [
        "From the `result`, we can check the program output.  In the case of `bc`, this is the result of evaluating the arithmetic expression:"
      ]
    },
    {
      "cell_type": "code",
      "metadata": {
        "button": false,
        "execution": {
          "iopub.execute_input": "2021-06-02T15:40:40.746585Z",
          "iopub.status.busy": "2021-06-02T15:40:40.745991Z",
          "iopub.status.idle": "2021-06-02T15:40:40.748111Z",
          "shell.execute_reply": "2021-06-02T15:40:40.748486Z"
        },
        "new_sheet": false,
        "run_control": {
          "read_only": false
        },
        "id": "RCrrnTlrhcKX"
      },
      "source": [
        "result.stdout"
      ],
      "execution_count": null,
      "outputs": []
    },
    {
      "cell_type": "markdown",
      "metadata": {
        "button": false,
        "new_sheet": false,
        "run_control": {
          "read_only": false
        },
        "id": "y0IbYjG7hcKa"
      },
      "source": [
        "We can also check the status. A value of 0 indicates that the program terminated correctly."
      ]
    },
    {
      "cell_type": "code",
      "metadata": {
        "button": false,
        "execution": {
          "iopub.execute_input": "2021-06-02T15:40:40.751683Z",
          "iopub.status.busy": "2021-06-02T15:40:40.751163Z",
          "iopub.status.idle": "2021-06-02T15:40:40.753748Z",
          "shell.execute_reply": "2021-06-02T15:40:40.754200Z"
        },
        "new_sheet": false,
        "run_control": {
          "read_only": false
        },
        "id": "AP8dXFuEhcKb"
      },
      "source": [
        "result.returncode"
      ],
      "execution_count": null,
      "outputs": []
    },
    {
      "cell_type": "markdown",
      "metadata": {
        "button": false,
        "new_sheet": false,
        "run_control": {
          "read_only": false
        },
        "id": "zpkssqKJhcKd"
      },
      "source": [
        "Any error messages would be available in `results.stderr`:"
      ]
    },
    {
      "cell_type": "code",
      "metadata": {
        "button": false,
        "execution": {
          "iopub.execute_input": "2021-06-02T15:40:40.758333Z",
          "iopub.status.busy": "2021-06-02T15:40:40.757743Z",
          "iopub.status.idle": "2021-06-02T15:40:40.759945Z",
          "shell.execute_reply": "2021-06-02T15:40:40.760336Z"
        },
        "new_sheet": false,
        "run_control": {
          "read_only": false
        },
        "id": "LAJw0vgOhcKe"
      },
      "source": [
        "result.stderr"
      ],
      "execution_count": null,
      "outputs": []
    },
    {
      "cell_type": "markdown",
      "metadata": {
        "button": false,
        "new_sheet": false,
        "run_control": {
          "read_only": false
        },
        "id": "gJwMzBnHhcKh"
      },
      "source": [
        "Instead of `bc`, you can actually put in any program you like.  Be aware, though, that if your program is able to change or even damage your system, there is quite a risk that the fuzzed input contains data or commands that do precisely this.\n",
        "\n",
        "Just for the fun of it, imagine you would test a file removal program.  What is the chance of the fuzzer producing a valid file name?  (Note that `.` and `/` may be  valid directory names already.)"
      ]
    },
    {
      "cell_type": "markdown",
      "metadata": {
        "button": false,
        "new_sheet": false,
        "run_control": {
          "read_only": false
        },
        "id": "bCdyG6kmhcKi"
      },
      "source": [
        "### Long-Running Fuzzing\n",
        "\n",
        "Let us now feed a large number of inputs into our tested program, to see whether it might crash on some.  We store all results in the `runs` variable as pairs of input data and the actual result. (Note: running this may take a while.)"
      ]
    },
    {
      "cell_type": "code",
      "metadata": {
        "button": false,
        "execution": {
          "iopub.execute_input": "2021-06-02T15:40:40.764900Z",
          "iopub.status.busy": "2021-06-02T15:40:40.764374Z",
          "iopub.status.idle": "2021-06-02T15:40:41.159620Z",
          "shell.execute_reply": "2021-06-02T15:40:41.160050Z"
        },
        "new_sheet": false,
        "run_control": {
          "read_only": false
        },
        "id": "BmNr2ZGWhcKk"
      },
      "source": [
        "trials = 100\n",
        "program = \"bc\"\n",
        "\n",
        "runs = []\n",
        "\n",
        "for i in range(trials):\n",
        "    data = fuzzer()\n",
        "    with open(FILE, \"w\") as f:\n",
        "        f.write(data)\n",
        "    result = subprocess.run([program, FILE],\n",
        "                            stdin=subprocess.DEVNULL,\n",
        "                            stdout=subprocess.PIPE,\n",
        "                            stderr=subprocess.PIPE,\n",
        "                            universal_newlines=True)\n",
        "    runs.append((data, result))"
      ],
      "execution_count": null,
      "outputs": []
    },
    {
      "cell_type": "markdown",
      "metadata": {
        "button": false,
        "new_sheet": false,
        "run_control": {
          "read_only": false
        },
        "id": "Sn17gyW6hcKl"
      },
      "source": [
        "We can now query `runs` for some statistics.  For instance, we can query how many runs actually passed -- that is, there were no error messages.  We use a _list comprehension_ here: The form _expression_ `for` _element_ `in` _list_ `if` _condition_ returns a list of evaluated _expressions_ in which each _element_ comes from _list_ if the _condition_ was true.  (Actually, a list comprehension returns a _list generator_, but for our purposes, the generator behaves like a list.)  Here, we have the _expression_ be 1 for all elements where _condition_ holds, and we use `sum()` to sum over all elements in the list."
      ]
    },
    {
      "cell_type": "code",
      "metadata": {
        "button": false,
        "execution": {
          "iopub.execute_input": "2021-06-02T15:40:41.164569Z",
          "iopub.status.busy": "2021-06-02T15:40:41.164013Z",
          "iopub.status.idle": "2021-06-02T15:40:41.166060Z",
          "shell.execute_reply": "2021-06-02T15:40:41.166492Z"
        },
        "new_sheet": false,
        "run_control": {
          "read_only": false
        },
        "id": "r01TAFnGhcKn"
      },
      "source": [
        "sum(1 for (data, result) in runs if result.stderr == \"\")"
      ],
      "execution_count": null,
      "outputs": []
    },
    {
      "cell_type": "markdown",
      "metadata": {
        "button": false,
        "new_sheet": false,
        "run_control": {
          "read_only": false
        },
        "id": "rvSKbxbyhcKp"
      },
      "source": [
        "Most inputs apparently are invalid – not a big surprise, as it is unlikely that a random input contains a valid arithmetic expression."
      ]
    },
    {
      "cell_type": "markdown",
      "metadata": {
        "button": false,
        "new_sheet": false,
        "run_control": {
          "read_only": false
        },
        "id": "l01sN8_UhcKq"
      },
      "source": [
        "Let us take a look at the first error message: "
      ]
    },
    {
      "cell_type": "code",
      "metadata": {
        "button": false,
        "execution": {
          "iopub.execute_input": "2021-06-02T15:40:41.171090Z",
          "iopub.status.busy": "2021-06-02T15:40:41.170373Z",
          "iopub.status.idle": "2021-06-02T15:40:41.173097Z",
          "shell.execute_reply": "2021-06-02T15:40:41.173594Z"
        },
        "new_sheet": false,
        "run_control": {
          "read_only": false
        },
        "id": "TfIFlvJWhcKv"
      },
      "source": [
        "errors = [(data, result) for (data, result) in runs if result.stderr != \"\"]\n",
        "(first_data, first_result) = errors[0]\n",
        "\n",
        "print(repr(first_data))\n",
        "print(first_result.stderr)"
      ],
      "execution_count": null,
      "outputs": []
    },
    {
      "cell_type": "markdown",
      "metadata": {
        "button": false,
        "new_sheet": false,
        "run_control": {
          "read_only": false
        },
        "id": "c_880DtZhcKx"
      },
      "source": [
        "Are there any runs with messages other than `illegal character`, `parse error`, or `syntax error`?  (Say, something like `crash` or `you found a fatal bug`?)  Not very many:"
      ]
    },
    {
      "cell_type": "code",
      "metadata": {
        "button": false,
        "execution": {
          "iopub.execute_input": "2021-06-02T15:40:41.177569Z",
          "iopub.status.busy": "2021-06-02T15:40:41.177027Z",
          "iopub.status.idle": "2021-06-02T15:40:41.179439Z",
          "shell.execute_reply": "2021-06-02T15:40:41.179068Z"
        },
        "new_sheet": false,
        "run_control": {
          "read_only": false
        },
        "id": "OrTGU6eMhcKz"
      },
      "source": [
        "[result.stderr for (data, result) in runs if\n",
        " result.stderr != \"\"\n",
        " and \"illegal character\" not in result.stderr\n",
        " and \"parse error\" not in result.stderr\n",
        " and \"syntax error\" not in result.stderr]"
      ],
      "execution_count": null,
      "outputs": []
    },
    {
      "cell_type": "markdown",
      "metadata": {
        "button": false,
        "new_sheet": false,
        "run_control": {
          "read_only": false
        },
        "id": "hfWdZLPmhcK1"
      },
      "source": [
        "Maybe a crash would be indicated by `bc` just crashing.  Unfortunately, the return code is never nonzero:"
      ]
    },
    {
      "cell_type": "code",
      "metadata": {
        "button": false,
        "execution": {
          "iopub.execute_input": "2021-06-02T15:40:41.183235Z",
          "iopub.status.busy": "2021-06-02T15:40:41.182713Z",
          "iopub.status.idle": "2021-06-02T15:40:41.184862Z",
          "shell.execute_reply": "2021-06-02T15:40:41.185226Z"
        },
        "new_sheet": false,
        "run_control": {
          "read_only": false
        },
        "id": "U3kwiYMxhcK3"
      },
      "source": [
        "sum(1 for (data, result) in runs if result.returncode != 0)"
      ],
      "execution_count": null,
      "outputs": []
    },
    {
      "cell_type": "markdown",
      "metadata": {
        "button": false,
        "new_sheet": false,
        "run_control": {
          "read_only": false
        },
        "id": "2RRGGSwlhcLF"
      },
      "source": [
        "## Bugs Fuzzers Find\n"
      ]
    },
    {
      "cell_type": "markdown",
      "metadata": {
        "button": false,
        "new_sheet": false,
        "run_control": {
          "read_only": false
        },
        "id": "U3uV4FH_hcLN"
      },
      "source": [
        "### Buffer Overflows\n",
        "\n",
        "Many programs have built-in maximum lengths for inputs and input elements.  In languages like C, it is easy to excess these lengths without the program (or the programmer) even noticing, triggering so-called **buffer overflows**.  The following code, for instance, happily copies the `input` string into a `weekday` string even if `input` has more than eight characters:\n",
        "```c\n",
        "char weekday[9]; // 8 characters + trailing '\\0' terminator\n",
        "strcpy (weekday, input);\n",
        "```\n",
        "Ironically, this already fails if `input` is `\"Wednesday\"` (9 characters); any excess characters (here, `'y'` and the following `'\\0'` string terminator) are simply copied to whatever resides in memory after `weekday`, triggering arbitrary behavior; maybe some boolean character variable which would be set from `'n'` to `'y'`.  With fuzzing, it is very easy to produce arbitrary long inputs and input elements."
      ]
    },
    {
      "cell_type": "markdown",
      "metadata": {
        "button": false,
        "new_sheet": false,
        "run_control": {
          "read_only": false
        },
        "id": "4AECK5OahcLO"
      },
      "source": [
        "We can easily simulate this buffer overflow behavior in a Python function:"
      ]
    },
    {
      "cell_type": "code",
      "metadata": {
        "button": false,
        "execution": {
          "iopub.execute_input": "2021-06-02T15:40:41.189222Z",
          "iopub.status.busy": "2021-06-02T15:40:41.188641Z",
          "iopub.status.idle": "2021-06-02T15:40:41.190394Z",
          "shell.execute_reply": "2021-06-02T15:40:41.190864Z"
        },
        "new_sheet": false,
        "run_control": {
          "read_only": false
        },
        "id": "h3wtW98LhcLd"
      },
      "source": [
        "def crash_if_too_long(s):\n",
        "    buffer = \"Thursday\"\n",
        "    if len(s) > len(buffer):\n",
        "        raise ValueError"
      ],
      "execution_count": null,
      "outputs": []
    },
    {
      "cell_type": "markdown",
      "metadata": {
        "button": false,
        "new_sheet": false,
        "run_control": {
          "read_only": false
        },
        "id": "OMCllSqjhcLe"
      },
      "source": [
        "And yes, it quickly crashes."
      ]
    },
    {
      "cell_type": "code",
      "metadata": {
        "id": "C31PSVAnqu6f"
      },
      "source": [
        "from fuzzingbook.ExpectError import ExpectError, ExpectTimeout"
      ],
      "execution_count": null,
      "outputs": []
    },
    {
      "cell_type": "code",
      "metadata": {
        "button": false,
        "execution": {
          "iopub.execute_input": "2021-06-02T15:40:41.198454Z",
          "iopub.status.busy": "2021-06-02T15:40:41.197864Z",
          "iopub.status.idle": "2021-06-02T15:40:41.199894Z",
          "shell.execute_reply": "2021-06-02T15:40:41.200260Z"
        },
        "new_sheet": false,
        "run_control": {
          "read_only": false
        },
        "id": "GawWXdGXhcLi"
      },
      "source": [
        "trials = 100\n",
        "with ExpectError():\n",
        "    for i in range(trials):\n",
        "        s = fuzzer()\n",
        "        crash_if_too_long(s)"
      ],
      "execution_count": null,
      "outputs": []
    },
    {
      "cell_type": "markdown",
      "metadata": {
        "button": false,
        "new_sheet": false,
        "run_control": {
          "read_only": false
        },
        "id": "hRCIrGyQhcLl"
      },
      "source": [
        "The `with ExpectError()` line in the above code ensures that the error message is printed, yet execution continues; this is to differentiate this \"expected\" error from \"unexpected\" errors in other code examples."
      ]
    },
    {
      "cell_type": "markdown",
      "metadata": {
        "button": false,
        "new_sheet": false,
        "run_control": {
          "read_only": false
        },
        "id": "n52k8RbXhcLm"
      },
      "source": [
        "### Missing Error Checks\n",
        "\n",
        "Many programming languages do not have exceptions, but instead have functions return special **error codes** in exceptional circumstances.  The C function `getchar()`, for instance, normally returns a character from the standard input; if no input is available anymore, it returns the special value `EOF` (end of file).  Now assume a programmer is scanning the input for the next character, reading in characters with `getchar()` until a space character is read:\n",
        "```c\n",
        "while (getchar() != ' ') {\n",
        "}\n",
        "```\n",
        "What happens if the input ends prematurely, as would perfectly be feasible with fuzzing?  Well, `getchar()` returns `EOF`, and keeps on returning `EOF` when called again; so the code above simply enters an infinite loop."
      ]
    },
    {
      "cell_type": "markdown",
      "metadata": {
        "button": false,
        "new_sheet": false,
        "run_control": {
          "read_only": false
        },
        "id": "OLaqMJdOhcLx"
      },
      "source": [
        "Again, we can simulate such missing error checks.  Here's a function that will effectively hang if no space is present in the input:"
      ]
    },
    {
      "cell_type": "code",
      "metadata": {
        "button": false,
        "execution": {
          "iopub.execute_input": "2021-06-02T15:40:41.204402Z",
          "iopub.status.busy": "2021-06-02T15:40:41.203717Z",
          "iopub.status.idle": "2021-06-02T15:40:41.205440Z",
          "shell.execute_reply": "2021-06-02T15:40:41.205818Z"
        },
        "new_sheet": false,
        "run_control": {
          "read_only": false
        },
        "id": "2lJi7CnwhcLy"
      },
      "source": [
        "def hang_if_no_space(s):\n",
        "    i = 0\n",
        "    while True:\n",
        "        if i < len(s):\n",
        "            if s[i] == ' ':\n",
        "                break\n",
        "        i += 1"
      ],
      "execution_count": null,
      "outputs": []
    },
    {
      "cell_type": "markdown",
      "metadata": {
        "button": false,
        "new_sheet": false,
        "run_control": {
          "read_only": false
        },
        "id": "j2qZboi1hcL2"
      },
      "source": [
        "Using the timeout mechanism, we can interrupt this function after some time.  And yes, it does hang after a few fuzzing inputs."
      ]
    },
    {
      "cell_type": "code",
      "metadata": {
        "button": false,
        "execution": {
          "iopub.execute_input": "2021-06-02T15:40:41.300288Z",
          "iopub.status.busy": "2021-06-02T15:40:41.258987Z",
          "iopub.status.idle": "2021-06-02T15:40:43.216830Z",
          "shell.execute_reply": "2021-06-02T15:40:43.216456Z"
        },
        "new_sheet": false,
        "run_control": {
          "read_only": false
        },
        "id": "D9dfPxCnhcL_"
      },
      "source": [
        "trials = 100\n",
        "with ExpectTimeout(2):\n",
        "    for i in range(trials):\n",
        "        s = fuzzer()\n",
        "        hang_if_no_space(s)"
      ],
      "execution_count": null,
      "outputs": []
    },
    {
      "cell_type": "markdown",
      "metadata": {
        "button": false,
        "new_sheet": false,
        "run_control": {
          "read_only": false
        },
        "id": "vpXLw9YrhcMC"
      },
      "source": [
        "The `with ExpectTimeout()` line in the above code ensures that execution of the enclosed code is interrupted after two seconds, printing the error message."
      ]
    },
    {
      "cell_type": "markdown",
      "metadata": {
        "button": false,
        "new_sheet": false,
        "run_control": {
          "read_only": false
        },
        "id": "48rMUyH7hcMD"
      },
      "source": [
        "\n",
        "### Rogue Numbers\n",
        "\n",
        "With fuzzing, it is easy to generate **uncommon values** in the input, causing all kinds of interesting behavior.  Consider the following code, again in the C language, which first reads a buffer size from the input, and then allocates a buffer of the given size:\n",
        "```c\n",
        "char *read_input() {\n",
        "    size_t size = read_buffer_size();\n",
        "    char *buffer = (char *)malloc(size);\n",
        "    // fill buffer\n",
        "    return (buffer);\n",
        "}\n",
        "```\n",
        "What happens if `size` is very large, exceeding program memory?  What happens if `size` is less than the number of characters following?  What happens if `size` is negative?  By providing a random number here, fuzzing can create all kinds of damages.\n"
      ]
    },
    {
      "cell_type": "markdown",
      "metadata": {
        "button": false,
        "new_sheet": false,
        "run_control": {
          "read_only": false
        },
        "id": "AD1ClBTfhcMF"
      },
      "source": [
        "Again, we can easily simulate such rogue numbers in Python.  The function `collapse_if_too_large()` fails if the passed value (a string) is too large after having been converted to an integer."
      ]
    },
    {
      "cell_type": "code",
      "metadata": {
        "button": false,
        "execution": {
          "iopub.execute_input": "2021-06-02T15:40:43.220705Z",
          "iopub.status.busy": "2021-06-02T15:40:43.220057Z",
          "iopub.status.idle": "2021-06-02T15:40:43.221986Z",
          "shell.execute_reply": "2021-06-02T15:40:43.222346Z"
        },
        "new_sheet": false,
        "run_control": {
          "read_only": false
        },
        "id": "9l5JK3adhcMG"
      },
      "source": [
        "def collapse_if_too_large(s):\n",
        "    if int(s) > 1000:\n",
        "        raise ValueError"
      ],
      "execution_count": null,
      "outputs": []
    },
    {
      "cell_type": "markdown",
      "metadata": {
        "button": false,
        "new_sheet": false,
        "run_control": {
          "read_only": false
        },
        "id": "9lP3K8A9hcMH"
      },
      "source": [
        "We can have `fuzzer()` create a string of digits:"
      ]
    },
    {
      "cell_type": "code",
      "metadata": {
        "button": false,
        "execution": {
          "iopub.execute_input": "2021-06-02T15:40:43.225946Z",
          "iopub.status.busy": "2021-06-02T15:40:43.225438Z",
          "iopub.status.idle": "2021-06-02T15:40:43.227544Z",
          "shell.execute_reply": "2021-06-02T15:40:43.227978Z"
        },
        "new_sheet": false,
        "run_control": {
          "read_only": false
        },
        "id": "LgvhwVBQhcMI"
      },
      "source": [
        "long_number = fuzzer(100, ord('0'), 10)\n",
        "print(long_number)"
      ],
      "execution_count": null,
      "outputs": []
    },
    {
      "cell_type": "markdown",
      "metadata": {
        "button": false,
        "new_sheet": false,
        "run_control": {
          "read_only": false
        },
        "id": "0noayroOhcMK"
      },
      "source": [
        "If we feed such numbers into `collapse_if_too_large()`, it will very soon fail."
      ]
    },
    {
      "cell_type": "code",
      "metadata": {
        "button": false,
        "execution": {
          "iopub.execute_input": "2021-06-02T15:40:43.231082Z",
          "iopub.status.busy": "2021-06-02T15:40:43.230518Z",
          "iopub.status.idle": "2021-06-02T15:40:43.232291Z",
          "shell.execute_reply": "2021-06-02T15:40:43.232717Z"
        },
        "new_sheet": false,
        "run_control": {
          "read_only": false
        },
        "id": "aNOPBGlAhcMM"
      },
      "source": [
        "with ExpectError():\n",
        "    collapse_if_too_large(long_number)"
      ],
      "execution_count": null,
      "outputs": []
    },
    {
      "cell_type": "markdown",
      "metadata": {
        "button": false,
        "new_sheet": false,
        "run_control": {
          "read_only": false
        },
        "id": "fm9OfvtghcMO"
      },
      "source": [
        "If we really wanted to allocate that much memory on a system, having it quickly fail as above actually would be the better option.  In reality, running out of memory may dramatically slow systems down, up to the point that they become totally unresponsive – and restarting is the only option."
      ]
    },
    {
      "cell_type": "markdown",
      "metadata": {
        "button": false,
        "new_sheet": false,
        "run_control": {
          "read_only": false
        },
        "id": "pnj-7_SghcMP"
      },
      "source": [
        "One might argue that these are all problems of bad programming, or of bad programming languages.  But then, there are thousands of people starting to program every day, and all of them make the same mistakes again and again, even today.  "
      ]
    },
    {
      "cell_type": "markdown",
      "metadata": {
        "button": false,
        "new_sheet": false,
        "run_control": {
          "read_only": false
        },
        "id": "LjplwKvThcMR"
      },
      "source": [
        "## Catching Errors\n"
      ]
    },
    {
      "cell_type": "markdown",
      "metadata": {
        "button": false,
        "new_sheet": false,
        "run_control": {
          "read_only": false
        },
        "id": "qeTTsuQbhcMT"
      },
      "source": [
        "### Generic Checkers\n",
        "\n",
        "Buffer overflows, as [discussed above](#Buffer-Overflows), are a particular instance of a more general problem: In languages like C and C++, a program can access arbitrary parts of its memory – even those parts that are uninitialized, already freed or simply not part of the data structure you are trying to access.  This is necessary if you want to write an operating system, and great if you want a maximum of performance or control, but pretty bad if you want to avoid mistakes.  Fortunately, there are tools that help catching such issues at runtime, and they are great when combined with fuzzing."
      ]
    },
    {
      "cell_type": "markdown",
      "metadata": {
        "button": false,
        "new_sheet": false,
        "run_control": {
          "read_only": false
        },
        "id": "DoRJBhKfhcMU"
      },
      "source": [
        "#### Checking Memory Accesses\n",
        "\n",
        "To catch problematic memory accesses during testing, one can run C programs in special _memory-checking_ environments; at runtime, these check for each and every memory operation whether it accesses valid and initialized memory. A popular example is [LLVM Address Sanitizer](https://clang.llvm.org/docs/AddressSanitizer.html) which detects a whole set of potentially dangerous memory safety violations. In the following example we will compile a rather simple C program with this tool and provoke an out-of-bounds read by reading past an allocated portion of memory."
      ]
    },
    {
      "cell_type": "code",
      "metadata": {
        "button": false,
        "execution": {
          "iopub.execute_input": "2021-06-02T15:40:43.236074Z",
          "iopub.status.busy": "2021-06-02T15:40:43.235509Z",
          "iopub.status.idle": "2021-06-02T15:40:43.237490Z",
          "shell.execute_reply": "2021-06-02T15:40:43.237854Z"
        },
        "new_sheet": false,
        "run_control": {
          "read_only": false
        },
        "id": "EquJYrQqhcMW"
      },
      "source": [
        "with open(\"program.c\", \"w\") as f:\n",
        "    f.write(\"\"\"\n",
        "#include <stdlib.h>\n",
        "#include <string.h>\n",
        "\n",
        "int main(int argc, char** argv) {\n",
        "    /* Create an array with 100 bytes, initialized with 42 */\n",
        "    char *buf = malloc(100);\n",
        "    memset(buf, 42, 100);\n",
        "\n",
        "    /* Read the N-th element, with N being the first command-line argument */\n",
        "    int index = atoi(argv[1]);\n",
        "    char val = buf[index];\n",
        "\n",
        "    /* Clean up memory so we don't leak */\n",
        "    free(buf);\n",
        "    return val;\n",
        "}\n",
        "    \"\"\")"
      ],
      "execution_count": null,
      "outputs": []
    },
    {
      "cell_type": "markdown",
      "metadata": {
        "button": false,
        "new_sheet": false,
        "run_control": {
          "read_only": false
        },
        "id": "Lhos3Z7xhcMl"
      },
      "source": [
        "We compile this C program with address sanitization enabled:"
      ]
    },
    {
      "cell_type": "code",
      "metadata": {
        "button": false,
        "execution": {
          "iopub.execute_input": "2021-06-02T15:40:43.639835Z",
          "iopub.status.busy": "2021-06-02T15:40:43.639304Z",
          "iopub.status.idle": "2021-06-02T15:40:44.464156Z",
          "shell.execute_reply": "2021-06-02T15:40:44.464681Z"
        },
        "new_sheet": false,
        "run_control": {
          "read_only": false
        },
        "id": "R7HJ1L4lhcMn"
      },
      "source": [
        "!clang -fsanitize=address -g -o program program.c"
      ],
      "execution_count": null,
      "outputs": []
    },
    {
      "cell_type": "markdown",
      "metadata": {
        "button": false,
        "new_sheet": false,
        "run_control": {
          "read_only": false
        },
        "id": "hYmiXFlYhcMo"
      },
      "source": [
        "If we run the program with an argument of `99`, it \n",
        "\n",
        "*   List item\n",
        "*   List item\n",
        "\n",
        "returns `buf[99]`, which is 42."
      ]
    },
    {
      "cell_type": "code",
      "metadata": {
        "button": false,
        "execution": {
          "iopub.execute_input": "2021-06-02T15:40:44.469939Z",
          "iopub.status.busy": "2021-06-02T15:40:44.469321Z",
          "iopub.status.idle": "2021-06-02T15:40:44.682529Z",
          "shell.execute_reply": "2021-06-02T15:40:44.683172Z"
        },
        "new_sheet": false,
        "run_control": {
          "read_only": false
        },
        "id": "ZSAT3ANvhcMp"
      },
      "source": [
        "!./program 99; echo $?"
      ],
      "execution_count": null,
      "outputs": []
    },
    {
      "cell_type": "markdown",
      "metadata": {
        "button": false,
        "new_sheet": false,
        "run_control": {
          "read_only": false
        },
        "id": "UouujWUQhcMr"
      },
      "source": [
        "Accessing `buf[110]`, however, results in an out-of-bounds error in AddressSanitizer."
      ]
    },
    {
      "cell_type": "code",
      "metadata": {
        "button": false,
        "execution": {
          "iopub.execute_input": "2021-06-02T15:40:44.688472Z",
          "iopub.status.busy": "2021-06-02T15:40:44.687803Z",
          "iopub.status.idle": "2021-06-02T15:40:45.015639Z",
          "shell.execute_reply": "2021-06-02T15:40:45.016240Z"
        },
        "new_sheet": false,
        "run_control": {
          "read_only": false
        },
        "id": "qoJoY6DChcMs"
      },
      "source": [
        "!./program 110"
      ],
      "execution_count": null,
      "outputs": []
    },
    {
      "cell_type": "markdown",
      "metadata": {
        "button": false,
        "new_sheet": false,
        "run_control": {
          "read_only": false
        },
        "id": "zbrT-9HzhcMu"
      },
      "source": [
        "If you want to find errors in a C program, turning on such checks for fuzzing is fairly easy.  It will slow down execution by a certain factor depending on the tool (for AddressSanitizer it is typically 2$\\times$) and also consume more memory, but CPU cycles are dead cheap compared to the human effort it takes to find these bugs."
      ]
    },
    {
      "cell_type": "markdown",
      "metadata": {
        "button": false,
        "new_sheet": false,
        "run_control": {
          "read_only": false
        },
        "id": "GW3EBrZUhcND"
      },
      "source": [
        "We're done with `program`, so we clean up:"
      ]
    },
    {
      "cell_type": "code",
      "metadata": {
        "button": false,
        "execution": {
          "iopub.execute_input": "2021-06-02T15:40:45.024062Z",
          "iopub.status.busy": "2021-06-02T15:40:45.023024Z",
          "iopub.status.idle": "2021-06-02T15:40:45.143308Z",
          "shell.execute_reply": "2021-06-02T15:40:45.143859Z"
        },
        "new_sheet": false,
        "run_control": {
          "read_only": false
        },
        "id": "WTGHaMiZhcNG"
      },
      "source": [
        "!rm -fr program program.*"
      ],
      "execution_count": null,
      "outputs": []
    },
    {
      "cell_type": "markdown",
      "metadata": {
        "button": false,
        "new_sheet": false,
        "run_control": {
          "read_only": false
        },
        "id": "vs3ZSZ_JhcNN"
      },
      "source": [
        "#### Information Leaks\n",
        "\n",
        "Information leaks may not only occur through illegal memory accesses; they can also occur within \"valid\" memory – if this \"valid\" memory contains sensitive information that should not leak out.  Let us illustrate this issue in a Python program.  To start with, let us create some program memory filled with actual data and random data:"
      ]
    },
    {
      "cell_type": "code",
      "metadata": {
        "button": false,
        "execution": {
          "iopub.execute_input": "2021-06-02T15:40:45.150579Z",
          "iopub.status.busy": "2021-06-02T15:40:45.149789Z",
          "iopub.status.idle": "2021-06-02T15:40:45.151851Z",
          "shell.execute_reply": "2021-06-02T15:40:45.152430Z"
        },
        "new_sheet": false,
        "run_control": {
          "read_only": false
        },
        "id": "gnSAi98PhcNO"
      },
      "source": [
        "secrets = (\"<space for reply>\" + fuzzer(100)\n",
        "     + \"<secret-certificate>\" + fuzzer(100)\n",
        "     + \"<secret-key>\" + fuzzer(100) + \"<other-secrets>\")"
      ],
      "execution_count": null,
      "outputs": []
    },
    {
      "cell_type": "markdown",
      "metadata": {
        "button": false,
        "new_sheet": false,
        "run_control": {
          "read_only": false
        },
        "id": "w823BLdGhcNP"
      },
      "source": [
        "We add more \"memory\" characters to `secrets`, filled with `\"deadbeef\"` as marker for uninitialized memory:"
      ]
    },
    {
      "cell_type": "code",
      "metadata": {
        "button": false,
        "execution": {
          "iopub.execute_input": "2021-06-02T15:40:45.158439Z",
          "iopub.status.busy": "2021-06-02T15:40:45.157450Z",
          "iopub.status.idle": "2021-06-02T15:40:45.160079Z",
          "shell.execute_reply": "2021-06-02T15:40:45.160798Z"
        },
        "new_sheet": false,
        "run_control": {
          "read_only": false
        },
        "id": "_yfzFg09hcNQ"
      },
      "source": [
        "uninitialized_memory_marker = \"deadbeef\"\n",
        "while len(secrets) < 2048:\n",
        "    secrets += uninitialized_memory_marker"
      ],
      "execution_count": null,
      "outputs": []
    },
    {
      "cell_type": "markdown",
      "metadata": {
        "button": false,
        "new_sheet": false,
        "run_control": {
          "read_only": false
        },
        "id": "dFflQQzUhcNR"
      },
      "source": [
        "We define a service that would take a reply to be sent back, as well as a length.  It would store the reply to be sent in memory, and then send it back with the given length."
      ]
    },
    {
      "cell_type": "code",
      "metadata": {
        "button": false,
        "execution": {
          "iopub.execute_input": "2021-06-02T15:40:45.166232Z",
          "iopub.status.busy": "2021-06-02T15:40:45.165413Z",
          "iopub.status.idle": "2021-06-02T15:40:45.167329Z",
          "shell.execute_reply": "2021-06-02T15:40:45.167938Z"
        },
        "new_sheet": false,
        "run_control": {
          "read_only": false
        },
        "id": "IirkA9w3hcNS"
      },
      "source": [
        "def heartbeat(reply, length, memory):\n",
        "    # Store reply in memory\n",
        "    memory = reply + memory[len(reply):]\n",
        "\n",
        "    # Send back heartbeat\n",
        "    s = \"\"\n",
        "    for i in range(length):\n",
        "        s += memory[i]\n",
        "    return s"
      ],
      "execution_count": null,
      "outputs": []
    },
    {
      "cell_type": "markdown",
      "metadata": {
        "button": false,
        "new_sheet": false,
        "run_control": {
          "read_only": false
        },
        "id": "wCYrz0SuhcNT"
      },
      "source": [
        "This perfectly works for standard strings:"
      ]
    },
    {
      "cell_type": "code",
      "metadata": {
        "button": false,
        "execution": {
          "iopub.execute_input": "2021-06-02T15:40:45.172486Z",
          "iopub.status.busy": "2021-06-02T15:40:45.171817Z",
          "iopub.status.idle": "2021-06-02T15:40:45.174556Z",
          "shell.execute_reply": "2021-06-02T15:40:45.175059Z"
        },
        "new_sheet": false,
        "run_control": {
          "read_only": false
        },
        "id": "PSGNRSEJhcNU"
      },
      "source": [
        "heartbeat(\"potato\", 6, memory=secrets)"
      ],
      "execution_count": null,
      "outputs": []
    },
    {
      "cell_type": "code",
      "metadata": {
        "button": false,
        "execution": {
          "iopub.execute_input": "2021-06-02T15:40:45.178865Z",
          "iopub.status.busy": "2021-06-02T15:40:45.178294Z",
          "iopub.status.idle": "2021-06-02T15:40:45.180839Z",
          "shell.execute_reply": "2021-06-02T15:40:45.181327Z"
        },
        "new_sheet": false,
        "run_control": {
          "read_only": false
        },
        "id": "LqpmXRIthcNV"
      },
      "source": [
        "heartbeat(\"bird\", 4, memory=secrets)"
      ],
      "execution_count": null,
      "outputs": []
    },
    {
      "cell_type": "markdown",
      "metadata": {
        "button": false,
        "new_sheet": false,
        "run_control": {
          "read_only": false
        },
        "id": "-0gFB4ahhcNW"
      },
      "source": [
        "However, if the length is greater than the length of the reply string, additional contents of memory spill out.  Note that all of this still occurs within regular array bounds, so an address sanitizer would not be triggered:"
      ]
    },
    {
      "cell_type": "code",
      "metadata": {
        "button": false,
        "execution": {
          "iopub.execute_input": "2021-06-02T15:40:45.185186Z",
          "iopub.status.busy": "2021-06-02T15:40:45.184493Z",
          "iopub.status.idle": "2021-06-02T15:40:45.186821Z",
          "shell.execute_reply": "2021-06-02T15:40:45.187209Z"
        },
        "new_sheet": false,
        "run_control": {
          "read_only": false
        },
        "id": "C_WoldSMhcNY"
      },
      "source": [
        "heartbeat(\"hat\", 500, memory=secrets)"
      ],
      "execution_count": null,
      "outputs": []
    },
    {
      "cell_type": "markdown",
      "metadata": {
        "button": false,
        "new_sheet": false,
        "run_control": {
          "read_only": false
        },
        "id": "z-nijiSWhcNZ"
      },
      "source": [
        "How can one detect such issues?  The idea is to identify information that should not leak out, such as the given secrets, but also uninitialized memory.  We can simulate such a check in a small Python example:"
      ]
    },
    {
      "cell_type": "code",
      "metadata": {
        "button": false,
        "execution": {
          "iopub.execute_input": "2021-06-02T15:40:45.196679Z",
          "iopub.status.busy": "2021-06-02T15:40:45.196009Z",
          "iopub.status.idle": "2021-06-02T15:40:45.198286Z",
          "shell.execute_reply": "2021-06-02T15:40:45.198780Z"
        },
        "new_sheet": false,
        "run_control": {
          "read_only": false
        },
        "id": "Z-V9hgiGhcNb"
      },
      "source": [
        "with ExpectError():\n",
        "    for i in range(10):\n",
        "        s = heartbeat(fuzzer(), random.randint(1, 500), memory=secrets)\n",
        "        assert not s.find(uninitialized_memory_marker)\n",
        "        assert not s.find(\"secret\")"
      ],
      "execution_count": null,
      "outputs": []
    },
    {
      "cell_type": "markdown",
      "metadata": {
        "button": false,
        "new_sheet": false,
        "run_control": {
          "read_only": false
        },
        "id": "POg3wF_OhcNe"
      },
      "source": [
        "As a rule of thumb, you should always _enable as many automatic checkers as possible_ during fuzzing.  CPU cycles are cheap, and errors are expensive.  If you only execute the program without an option to actually detect errors, you will be missing several opportunities."
      ]
    },
    {
      "cell_type": "markdown",
      "metadata": {
        "button": false,
        "new_sheet": false,
        "run_control": {
          "read_only": false
        },
        "id": "dyV8jtPthcNf"
      },
      "source": [
        "### Program-Specific Checkers\n",
        "\n",
        "Besides generic checkers that apply to _all_ programs on a given platform or in a given language, you can also devise _specific_ checkers that apply to your program, or a subsystem.  "
      ]
    },
    {
      "cell_type": "markdown",
      "metadata": {
        "button": false,
        "new_sheet": false,
        "run_control": {
          "read_only": false
        },
        "id": "Tq0G7lo2hcNg"
      },
      "source": [
        "One key idea for detecting errors early is the concept of *assertion* – a predicate that checks the input (precondition) and the result (postcondition) of important functions.  The more assertions you have in your program, the higher your chances to detect errors during execution that would go undetected by generic checkers – notably during fuzzing.  If you worry about the impact of assertions on performance, keep in mind that assertions can be turned off in production code (although it can be helpful to leave the most critical checks active)."
      ]
    },
    {
      "cell_type": "markdown",
      "metadata": {
        "button": false,
        "new_sheet": false,
        "run_control": {
          "read_only": false
        },
        "id": "ije3DEYbhcNh"
      },
      "source": [
        "One of the most important uses of assertions for finding errors is _checking the integrity of complex data structures._  Let us illustrate the concept using a simple example.  Suppose we have a mapping of airport codes to airports, as in"
      ]
    },
    {
      "cell_type": "code",
      "metadata": {
        "button": false,
        "execution": {
          "iopub.execute_input": "2021-06-02T15:40:45.202795Z",
          "iopub.status.busy": "2021-06-02T15:40:45.202129Z",
          "iopub.status.idle": "2021-06-02T15:40:45.204137Z",
          "shell.execute_reply": "2021-06-02T15:40:45.204576Z"
        },
        "new_sheet": false,
        "run_control": {
          "read_only": false
        },
        "id": "rGNuVQK0hcNi"
      },
      "source": [
        "airport_codes = {\n",
        "    \"YVR\": \"Vancouver\",\n",
        "    \"JFK\": \"New York-JFK\",\n",
        "    \"CDG\": \"Paris-Charles de Gaulle\",\n",
        "    \"CAI\": \"Cairo\",\n",
        "    \"LED\": \"St. Petersburg\",\n",
        "    \"PEK\": \"Beijing\",\n",
        "    \"HND\": \"Tokyo-Haneda\",\n",
        "    \"AKL\": \"Auckland\"\n",
        "}  # plus many more\n"
      ],
      "execution_count": null,
      "outputs": []
    },
    {
      "cell_type": "code",
      "metadata": {
        "button": false,
        "execution": {
          "iopub.execute_input": "2021-06-02T15:40:45.208351Z",
          "iopub.status.busy": "2021-06-02T15:40:45.207522Z",
          "iopub.status.idle": "2021-06-02T15:40:45.210054Z",
          "shell.execute_reply": "2021-06-02T15:40:45.210516Z"
        },
        "new_sheet": false,
        "run_control": {
          "read_only": false
        },
        "id": "Em7Lztm_hcNk"
      },
      "source": [
        "airport_codes[\"YVR\"]"
      ],
      "execution_count": null,
      "outputs": []
    },
    {
      "cell_type": "code",
      "metadata": {
        "button": false,
        "execution": {
          "iopub.execute_input": "2021-06-02T15:40:45.214628Z",
          "iopub.status.busy": "2021-06-02T15:40:45.213778Z",
          "iopub.status.idle": "2021-06-02T15:40:45.216430Z",
          "shell.execute_reply": "2021-06-02T15:40:45.216822Z"
        },
        "new_sheet": false,
        "run_control": {
          "read_only": false
        },
        "id": "V1hULAZqhcNl"
      },
      "source": [
        "\"ALK\" in airport_codes"
      ],
      "execution_count": null,
      "outputs": []
    },
    {
      "cell_type": "markdown",
      "metadata": {
        "button": false,
        "new_sheet": false,
        "run_control": {
          "read_only": false
        },
        "id": "zpXyNSDzhcNn"
      },
      "source": [
        "This list of airport codes may be pretty critical: if we have a spelling mistake in any of the airport codes, this may impact whatever application we have.  We therefore introduce a function that checks the list for consistency.  The consistency condition is called a *representation invariant*, and functions (or methods) that check it are therefore typically named `repOK()` for \"the representation is ok\"."
      ]
    },
    {
      "cell_type": "markdown",
      "metadata": {
        "button": false,
        "new_sheet": false,
        "run_control": {
          "read_only": false
        },
        "id": "lr9JClNThcNo"
      },
      "source": [
        "First, let's have a checker for individual airport codes.  The checker fails if the code is inconsistent."
      ]
    },
    {
      "cell_type": "code",
      "metadata": {
        "button": false,
        "execution": {
          "iopub.execute_input": "2021-06-02T15:40:45.221151Z",
          "iopub.status.busy": "2021-06-02T15:40:45.220564Z",
          "iopub.status.idle": "2021-06-02T15:40:45.222275Z",
          "shell.execute_reply": "2021-06-02T15:40:45.222762Z"
        },
        "new_sheet": false,
        "run_control": {
          "read_only": false
        },
        "id": "Itf5h7ahhcNp"
      },
      "source": [
        "def code_repOK(code):\n",
        "    assert len(code) == 3, \"Airport code must have three characters: \" + repr(code)\n",
        "    for c in code:\n",
        "        assert c.isalpha(), \"Non-letter in airport code: \" + repr(code)\n",
        "        assert c.isupper(), \"Lowercase letter in airport code: \" + repr(code)\n",
        "    return True"
      ],
      "execution_count": null,
      "outputs": []
    },
    {
      "cell_type": "code",
      "metadata": {
        "button": false,
        "execution": {
          "iopub.execute_input": "2021-06-02T15:40:45.226371Z",
          "iopub.status.busy": "2021-06-02T15:40:45.225507Z",
          "iopub.status.idle": "2021-06-02T15:40:45.227496Z",
          "shell.execute_reply": "2021-06-02T15:40:45.227919Z"
        },
        "new_sheet": false,
        "run_control": {
          "read_only": false
        },
        "id": "8lwEMyqChcNq"
      },
      "source": [
        "assert code_repOK(\"SEA\")"
      ],
      "execution_count": null,
      "outputs": []
    },
    {
      "cell_type": "markdown",
      "metadata": {
        "button": false,
        "new_sheet": false,
        "run_control": {
          "read_only": false
        },
        "id": "vC5HhicwhcNs"
      },
      "source": [
        "We can now use `code_repOK()` to check all elements in the list:"
      ]
    },
    {
      "cell_type": "code",
      "metadata": {
        "button": false,
        "execution": {
          "iopub.execute_input": "2021-06-02T15:40:45.231459Z",
          "iopub.status.busy": "2021-06-02T15:40:45.230902Z",
          "iopub.status.idle": "2021-06-02T15:40:45.232650Z",
          "shell.execute_reply": "2021-06-02T15:40:45.233063Z"
        },
        "new_sheet": false,
        "run_control": {
          "read_only": false
        },
        "id": "GvxgR_lXhcNt"
      },
      "source": [
        "def airport_codes_repOK():\n",
        "    for code in airport_codes:\n",
        "        assert code_repOK(code)\n",
        "    return True"
      ],
      "execution_count": null,
      "outputs": []
    },
    {
      "cell_type": "code",
      "metadata": {
        "button": false,
        "execution": {
          "iopub.execute_input": "2021-06-02T15:40:45.236089Z",
          "iopub.status.busy": "2021-06-02T15:40:45.235573Z",
          "iopub.status.idle": "2021-06-02T15:40:45.237189Z",
          "shell.execute_reply": "2021-06-02T15:40:45.237565Z"
        },
        "new_sheet": false,
        "run_control": {
          "read_only": false
        },
        "id": "5S8MdyRWhcNw"
      },
      "source": [
        "with ExpectError():\n",
        "    assert airport_codes_repOK()"
      ],
      "execution_count": null,
      "outputs": []
    },
    {
      "cell_type": "markdown",
      "metadata": {
        "button": false,
        "new_sheet": false,
        "run_control": {
          "read_only": false
        },
        "id": "VxeRNNiGhcNx"
      },
      "source": [
        "If we add an invalid element to the list, our check would fail:"
      ]
    },
    {
      "cell_type": "code",
      "metadata": {
        "button": false,
        "execution": {
          "iopub.execute_input": "2021-06-02T15:40:45.240887Z",
          "iopub.status.busy": "2021-06-02T15:40:45.240352Z",
          "iopub.status.idle": "2021-06-02T15:40:45.242100Z",
          "shell.execute_reply": "2021-06-02T15:40:45.242536Z"
        },
        "new_sheet": false,
        "run_control": {
          "read_only": false
        },
        "id": "iU7zbtS_hcNy"
      },
      "source": [
        "airport_codes[\"YMML\"] = \"Melbourne\""
      ],
      "execution_count": null,
      "outputs": []
    },
    {
      "cell_type": "code",
      "metadata": {
        "button": false,
        "execution": {
          "iopub.execute_input": "2021-06-02T15:40:45.245804Z",
          "iopub.status.busy": "2021-06-02T15:40:45.245131Z",
          "iopub.status.idle": "2021-06-02T15:40:45.247233Z",
          "shell.execute_reply": "2021-06-02T15:40:45.247722Z"
        },
        "new_sheet": false,
        "run_control": {
          "read_only": false
        },
        "id": "ueURw2BAhcNz"
      },
      "source": [
        "with ExpectError():\n",
        "    assert airport_codes_repOK()"
      ],
      "execution_count": null,
      "outputs": []
    },
    {
      "cell_type": "markdown",
      "metadata": {
        "button": false,
        "new_sheet": false,
        "run_control": {
          "read_only": false
        },
        "id": "iSy5HgivhcN0"
      },
      "source": [
        "Of course, rather than manipulating the list directly, we'd have a special function for adding elements; this could then also check whether the code is valid:"
      ]
    },
    {
      "cell_type": "code",
      "metadata": {
        "button": false,
        "execution": {
          "iopub.execute_input": "2021-06-02T15:40:45.251651Z",
          "iopub.status.busy": "2021-06-02T15:40:45.251043Z",
          "iopub.status.idle": "2021-06-02T15:40:45.252719Z",
          "shell.execute_reply": "2021-06-02T15:40:45.253127Z"
        },
        "new_sheet": false,
        "run_control": {
          "read_only": false
        },
        "id": "GEOEH8jqhcN2"
      },
      "source": [
        "def add_new_airport(code, city):\n",
        "    assert code_repOK(code)\n",
        "    airport_codes[code] = city"
      ],
      "execution_count": null,
      "outputs": []
    },
    {
      "cell_type": "code",
      "metadata": {
        "button": false,
        "execution": {
          "iopub.execute_input": "2021-06-02T15:40:45.256437Z",
          "iopub.status.busy": "2021-06-02T15:40:45.255715Z",
          "iopub.status.idle": "2021-06-02T15:40:45.257598Z",
          "shell.execute_reply": "2021-06-02T15:40:45.258120Z"
        },
        "new_sheet": false,
        "run_control": {
          "read_only": false
        },
        "id": "YwM-PQhvhcN3"
      },
      "source": [
        "with ExpectError():  # For BER, ExpectTimeout would be more appropriate\n",
        "    add_new_airport(\"BER\", \"Berlin\")"
      ],
      "execution_count": null,
      "outputs": []
    },
    {
      "cell_type": "markdown",
      "metadata": {
        "button": false,
        "new_sheet": false,
        "run_control": {
          "read_only": false
        },
        "id": "qRjddb58hcN5"
      },
      "source": [
        "This check also allows us to find out errors in argument lists:"
      ]
    },
    {
      "cell_type": "code",
      "metadata": {
        "button": false,
        "execution": {
          "iopub.execute_input": "2021-06-02T15:40:45.261585Z",
          "iopub.status.busy": "2021-06-02T15:40:45.261007Z",
          "iopub.status.idle": "2021-06-02T15:40:45.263077Z",
          "shell.execute_reply": "2021-06-02T15:40:45.263454Z"
        },
        "new_sheet": false,
        "run_control": {
          "read_only": false
        },
        "id": "Du6k5JuuhcN5"
      },
      "source": [
        "with ExpectError():\n",
        "    add_new_airport(\"London-Heathrow\", \"LHR\")"
      ],
      "execution_count": null,
      "outputs": []
    },
    {
      "cell_type": "markdown",
      "metadata": {
        "button": false,
        "new_sheet": false,
        "run_control": {
          "read_only": false
        },
        "id": "p67Kg3LWhcN7"
      },
      "source": [
        "For maximum checking, though, the `add_new_airport()` function would also ensure the correct representation of the list of airport codes – _before_ and _after_ changing it."
      ]
    },
    {
      "cell_type": "code",
      "metadata": {
        "button": false,
        "execution": {
          "iopub.execute_input": "2021-06-02T15:40:45.266837Z",
          "iopub.status.busy": "2021-06-02T15:40:45.266309Z",
          "iopub.status.idle": "2021-06-02T15:40:45.267961Z",
          "shell.execute_reply": "2021-06-02T15:40:45.268325Z"
        },
        "new_sheet": false,
        "run_control": {
          "read_only": false
        },
        "id": "929wGk0xhcN8"
      },
      "source": [
        "def add_new_airport(code, city):\n",
        "    assert code_repOK(code)\n",
        "    assert airport_codes_repOK()\n",
        "    airport_codes[code] = city\n",
        "    assert airport_codes_repOK()"
      ],
      "execution_count": null,
      "outputs": []
    },
    {
      "cell_type": "markdown",
      "metadata": {
        "button": false,
        "new_sheet": false,
        "run_control": {
          "read_only": false
        },
        "id": "syb8-yTXhcN-"
      },
      "source": [
        "This catches the inconsistency introduced earlier:"
      ]
    },
    {
      "cell_type": "code",
      "metadata": {
        "button": false,
        "execution": {
          "iopub.execute_input": "2021-06-02T15:40:45.271217Z",
          "iopub.status.busy": "2021-06-02T15:40:45.270697Z",
          "iopub.status.idle": "2021-06-02T15:40:45.273730Z",
          "shell.execute_reply": "2021-06-02T15:40:45.273188Z"
        },
        "new_sheet": false,
        "run_control": {
          "read_only": false
        },
        "id": "wyInm6IghcN_"
      },
      "source": [
        "with ExpectError():\n",
        "    add_new_airport(\"IST\", \"Istanbul Yeni Havalimanı\")"
      ],
      "execution_count": null,
      "outputs": []
    },
    {
      "cell_type": "markdown",
      "metadata": {
        "button": false,
        "new_sheet": false,
        "run_control": {
          "read_only": false
        },
        "id": "JWM31AVOhcOA"
      },
      "source": [
        "The more `repOK()` assertions exist in your code, the more errors you will catch – even those specific to only your domain and problem.  On top, such assertions document the _assumptions you made_ during programming and thus help other programmers to understand your code and prevent errors."
      ]
    },
    {
      "cell_type": "markdown",
      "metadata": {
        "button": false,
        "new_sheet": false,
        "run_control": {
          "read_only": false
        },
        "id": "HlG2LuS3hcPE"
      },
      "source": [
        "## Lessons Learned\n",
        "\n",
        "* Randomly generating inputs (\"fuzzing\") is a simple, cost-effective way to quickly test arbitrary programs for their robustness.\n",
        "* Bugs fuzzers find are mainly due to errors and deficiencies in _input processing_.\n",
        "* To catch errors, have as many _consistency checkers_ as possible."
      ]
    },
    {
      "cell_type": "markdown",
      "metadata": {
        "button": false,
        "new_sheet": false,
        "run_control": {
          "read_only": false
        },
        "id": "9Woj5W_GhcPF"
      },
      "source": [
        "We're done, so don't forget to clean up:"
      ]
    },
    {
      "cell_type": "code",
      "metadata": {
        "button": false,
        "execution": {
          "iopub.execute_input": "2021-06-02T15:40:45.523343Z",
          "iopub.status.busy": "2021-06-02T15:40:45.522678Z",
          "iopub.status.idle": "2021-06-02T15:40:45.525094Z",
          "shell.execute_reply": "2021-06-02T15:40:45.525483Z"
        },
        "new_sheet": false,
        "run_control": {
          "read_only": false
        },
        "id": "WeRd1YldhcPG"
      },
      "source": [
        "os.remove(FILE)\n",
        "os.removedirs(tempdir)"
      ],
      "execution_count": null,
      "outputs": []
    }
  ]
}