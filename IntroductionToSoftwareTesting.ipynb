{
  "nbformat": 4,
  "nbformat_minor": 0,
  "metadata": {
    "ipub": {
      "bibliography": "fuzzingbook.bib",
      "toc": true
    },
    "kernelspec": {
      "display_name": "Python 3 (ipykernel)",
      "language": "python",
      "name": "python3"
    },
    "language_info": {
      "codemirror_mode": {
        "name": "ipython",
        "version": 3
      },
      "file_extension": ".py",
      "mimetype": "text/x-python",
      "name": "python",
      "nbconvert_exporter": "python",
      "pygments_lexer": "ipython3",
      "version": "3.9.7"
    },
    "toc": {
      "base_numbering": 1,
      "nav_menu": {},
      "number_sections": true,
      "sideBar": true,
      "skip_h1_title": true,
      "title_cell": "",
      "title_sidebar": "Contents",
      "toc_cell": false,
      "toc_position": {
        "height": "calc(100% - 180px)",
        "left": "10px",
        "top": "150px",
        "width": "165px"
      },
      "toc_section_display": true,
      "toc_window_display": true
    },
    "toc-autonumbering": false,
    "toc-showtags": false,
    "colab": {
      "name": "IntroductionToSoftwareTesting.ipynb",
      "provenance": []
    }
  },
  "cells": [
    {
      "cell_type": "markdown",
      "metadata": {
        "button": false,
        "new_sheet": false,
        "run_control": {
          "read_only": false
        },
        "id": "wIpTuHiothz0"
      },
      "source": [
        "# Introduction to Software Testing\n",
        "\n",
        "Content and code adapted from fuzzingbook.org and shared under the same license conditions. [License](https://github.com/uds-se/fuzzingbook/blob/master/LICENSE.md)"
      ]
    },
    {
      "cell_type": "markdown",
      "metadata": {
        "id": "o4De1_3_wJKA"
      },
      "source": [
        "Install the fuzzingbook package for python through pip.\n",
        "\n",
        "\n",
        "\n"
      ]
    },
    {
      "cell_type": "code",
      "metadata": {
        "id": "kAIKYsmkvn-J"
      },
      "source": [
        "!pip install fuzzingbook"
      ],
      "execution_count": null,
      "outputs": []
    },
    {
      "cell_type": "markdown",
      "metadata": {
        "button": false,
        "new_sheet": false,
        "run_control": {
          "read_only": false
        },
        "id": "dkHq7Pcyth1B"
      },
      "source": [
        "## Simple Testing\n",
        "\n",
        "Let us start with a simple example.  Your co-worker has been asked to implement a square root function $\\sqrt{x}$.  (Let's assume for a moment that the environment does  not already have one.)  After studying the [Newton–Raphson method](https://en.wikipedia.org/wiki/Newton%27s_method), she comes up with the following Python code, claiming that, in fact, this `my_sqrt()` function computes square roots."
      ]
    },
    {
      "cell_type": "code",
      "metadata": {
        "button": false,
        "execution": {
          "iopub.execute_input": "2021-06-02T15:40:20.844020Z",
          "iopub.status.busy": "2021-06-02T15:40:20.843374Z",
          "iopub.status.idle": "2021-06-02T15:40:20.845088Z",
          "shell.execute_reply": "2021-06-02T15:40:20.845472Z"
        },
        "new_sheet": false,
        "run_control": {
          "read_only": false
        },
        "id": "HcbQKynqth1V"
      },
      "source": [
        "def my_sqrt(x):\n",
        "    \"\"\"Computes the square root of x, using the Newton-Raphson method\"\"\"\n",
        "    approx = None\n",
        "    guess = x / 2\n",
        "    while approx != guess:\n",
        "        approx = guess\n",
        "        guess = (approx + x / approx) / 2\n",
        "    return approx"
      ],
      "execution_count": null,
      "outputs": []
    },
    {
      "cell_type": "markdown",
      "metadata": {
        "button": false,
        "new_sheet": false,
        "run_control": {
          "read_only": false
        },
        "id": "xy-gubT3th1n"
      },
      "source": [
        "Your job is now to find out whether this function actually does what it claims to do."
      ]
    },
    {
      "cell_type": "markdown",
      "metadata": {
        "id": "5p-V6w74th1y"
      },
      "source": [
        "### Running a Function"
      ]
    },
    {
      "cell_type": "markdown",
      "metadata": {
        "button": false,
        "new_sheet": false,
        "run_control": {
          "read_only": false
        },
        "id": "C3w5CRfXth17"
      },
      "source": [
        "To find out whether `my_sqrt()` works correctly, we can *test* it with a few values.  For `x = 4`, for instance, it produces the correct value:"
      ]
    },
    {
      "cell_type": "code",
      "metadata": {
        "button": false,
        "execution": {
          "iopub.execute_input": "2021-06-02T15:40:20.854254Z",
          "iopub.status.busy": "2021-06-02T15:40:20.853712Z",
          "iopub.status.idle": "2021-06-02T15:40:20.857415Z",
          "shell.execute_reply": "2021-06-02T15:40:20.857819Z"
        },
        "new_sheet": false,
        "run_control": {
          "read_only": false
        },
        "id": "wc6QAFlcth1_"
      },
      "source": [
        "my_sqrt(4)"
      ],
      "execution_count": null,
      "outputs": []
    },
    {
      "cell_type": "markdown",
      "metadata": {
        "id": "bYVUzs0Lth2w"
      },
      "source": [
        "The upper part above `my_sqrt(4)` (a so-called _cell_) is an input to the Python interpreter, which by default _evaluates_ it.  The lower part (`2.0`) is its output.  We can see that `my_sqrt(4)` produces the correct value."
      ]
    },
    {
      "cell_type": "markdown",
      "metadata": {
        "button": false,
        "new_sheet": false,
        "run_control": {
          "read_only": false
        },
        "id": "B8dVzPslth2_"
      },
      "source": [
        "The same holds for `x = 2.0`, apparently, too:"
      ]
    },
    {
      "cell_type": "code",
      "metadata": {
        "button": false,
        "execution": {
          "iopub.execute_input": "2021-06-02T15:40:20.861383Z",
          "iopub.status.busy": "2021-06-02T15:40:20.860782Z",
          "iopub.status.idle": "2021-06-02T15:40:20.863359Z",
          "shell.execute_reply": "2021-06-02T15:40:20.863757Z"
        },
        "new_sheet": false,
        "run_control": {
          "read_only": false
        },
        "id": "fS59Yfp2th3M"
      },
      "source": [
        "my_sqrt(9)"
      ],
      "execution_count": null,
      "outputs": []
    },
    {
      "cell_type": "markdown",
      "metadata": {
        "id": "pb8Y0F6fth3k"
      },
      "source": [
        "### Debugging a Function"
      ]
    },
    {
      "cell_type": "markdown",
      "metadata": {
        "id": "RQGrVjj7th3p"
      },
      "source": [
        "To see how `my_sqrt()` operates, a simple strategy is to insert `print()` statements in critical places.  You can, for instance, log the value of `approx`, to see how each loop iteration gets closer to the actual value:"
      ]
    },
    {
      "cell_type": "code",
      "metadata": {
        "button": false,
        "execution": {
          "iopub.execute_input": "2021-06-02T15:40:20.868757Z",
          "iopub.status.busy": "2021-06-02T15:40:20.867934Z",
          "iopub.status.idle": "2021-06-02T15:40:20.869704Z",
          "shell.execute_reply": "2021-06-02T15:40:20.870079Z"
        },
        "new_sheet": false,
        "run_control": {
          "read_only": false
        },
        "id": "yAfeJMZgth3u"
      },
      "source": [
        "def my_sqrt_with_log(x):\n",
        "    \"\"\"Computes the square root of x, using the Newton–Raphson method\"\"\"\n",
        "    approx = None\n",
        "    guess = x / 2\n",
        "    while approx != guess:\n",
        "        print(\"approx =\", approx)  # <-- New\n",
        "        approx = guess\n",
        "        guess = (approx + x / approx) / 2\n",
        "    return approx"
      ],
      "execution_count": null,
      "outputs": []
    },
    {
      "cell_type": "code",
      "metadata": {
        "execution": {
          "iopub.execute_input": "2021-06-02T15:40:20.873674Z",
          "iopub.status.busy": "2021-06-02T15:40:20.872998Z",
          "iopub.status.idle": "2021-06-02T15:40:20.875953Z",
          "shell.execute_reply": "2021-06-02T15:40:20.876336Z"
        },
        "id": "G47o4nkAth32"
      },
      "source": [
        "my_sqrt_with_log(9)"
      ],
      "execution_count": null,
      "outputs": []
    },
    {
      "cell_type": "markdown",
      "metadata": {
        "id": "I1vBVGScth37"
      },
      "source": [
        "### Checking a Function"
      ]
    },
    {
      "cell_type": "markdown",
      "metadata": {
        "button": false,
        "new_sheet": false,
        "run_control": {
          "read_only": false
        },
        "id": "aFoL0LgMth39"
      },
      "source": [
        "Let's get back to testing.  We can read and run the code, but are the above values of `my_sqrt(2)` actually correct?  We can easily verify by exploiting that $\\sqrt{x}$ squared again has to be $x$, or in other words $\\sqrt{x} \\times \\sqrt{x} = x$.  Let's take a look:"
      ]
    },
    {
      "cell_type": "code",
      "metadata": {
        "button": false,
        "execution": {
          "iopub.execute_input": "2021-06-02T15:40:20.880377Z",
          "iopub.status.busy": "2021-06-02T15:40:20.879511Z",
          "iopub.status.idle": "2021-06-02T15:40:20.882905Z",
          "shell.execute_reply": "2021-06-02T15:40:20.883356Z"
        },
        "new_sheet": false,
        "run_control": {
          "read_only": false
        },
        "id": "iS6XvnGbth4B"
      },
      "source": [
        "my_sqrt(2) * my_sqrt(2)"
      ],
      "execution_count": null,
      "outputs": []
    },
    {
      "cell_type": "markdown",
      "metadata": {
        "button": false,
        "new_sheet": false,
        "run_control": {
          "read_only": false
        },
        "id": "V-GOUDOkth4I"
      },
      "source": [
        "Okay, we do have some rounding error, but otherwise, this seems just fine."
      ]
    },
    {
      "cell_type": "markdown",
      "metadata": {
        "button": false,
        "new_sheet": false,
        "run_control": {
          "read_only": false
        },
        "id": "g4Y7AWKyth4R"
      },
      "source": [
        "What we have done now is that we have _tested_ the above program: We have _executed_ it on a given input and _checked_ its result whether it is correct or not.  Such a test is the bare minimum of quality assurance before a program goes into production."
      ]
    },
    {
      "cell_type": "markdown",
      "metadata": {
        "button": false,
        "new_sheet": false,
        "run_control": {
          "read_only": false
        },
        "id": "qeasUAU-th4T"
      },
      "source": [
        "## Automating Test Execution\n",
        "\n",
        "So far, we have tested the above program _manually_, that is, running it by hand and checking its results by hand.  This is a very flexible way of testing, but in the long run, it is rather inefficient:\n",
        "\n",
        "1. Manually, you can only check a very limited number of executions and their results\n",
        "2. After any change to the program, you have to repeat the testing process\n",
        "\n",
        "This is why it is very useful to _automate_ tests.  One simple way of doing so is to let the computer first do the computation, and then have it check the results."
      ]
    },
    {
      "cell_type": "markdown",
      "metadata": {
        "button": false,
        "new_sheet": false,
        "run_control": {
          "read_only": false
        },
        "id": "1Hs08Sytth4U"
      },
      "source": [
        "For instance, this piece of code automatically tests whether $\\sqrt{4} = 2$ holds:"
      ]
    },
    {
      "cell_type": "code",
      "metadata": {
        "button": false,
        "execution": {
          "iopub.execute_input": "2021-06-02T15:40:20.887805Z",
          "iopub.status.busy": "2021-06-02T15:40:20.887228Z",
          "iopub.status.idle": "2021-06-02T15:40:20.889062Z",
          "shell.execute_reply": "2021-06-02T15:40:20.889429Z"
        },
        "new_sheet": false,
        "run_control": {
          "read_only": false
        },
        "id": "9QPWeghoth4c"
      },
      "source": [
        "result = my_sqrt(4)\n",
        "expected_result = 2.0\n",
        "if result == expected_result:\n",
        "    print(\"Test passed\")\n",
        "else:\n",
        "    print(\"Test failed\")"
      ],
      "execution_count": null,
      "outputs": []
    },
    {
      "cell_type": "markdown",
      "metadata": {
        "button": false,
        "new_sheet": false,
        "run_control": {
          "read_only": false
        },
        "id": "IrKg2Utvth4f"
      },
      "source": [
        "The nice thing about this test is that we can run it again and again, thus ensuring that at least the square root of 4 is computed correctly.  But there are still a number of issues, though:\n",
        "\n",
        "1. We need _five lines of code_ for a single test\n",
        "2. We do not care for rounding errors\n",
        "3. We only check a single input (and a single result)\n",
        "\n",
        "Let us address these issues one by one.  First, let's make the test a bit more compact.  Almost all programming languages do have a means to automatically check whether a condition holds, and stop execution if it does not.  This is called an _assertion_, and it is immensely useful for testing."
      ]
    },
    {
      "cell_type": "markdown",
      "metadata": {
        "button": false,
        "new_sheet": false,
        "run_control": {
          "read_only": false
        },
        "id": "iHjTHLzfth4n"
      },
      "source": [
        "In Python, the `assert` statement takes a condition, and if the condition is true, nothing happens.  (If everything works as it should, you should not be bothered.)  If the condition evaluates to false, though, `assert` raises an exception, indicating that a test just failed.\n",
        "\n",
        "In our example, we can use `assert` to easily check whether `my_sqrt()` yields the expected result as above:"
      ]
    },
    {
      "cell_type": "code",
      "metadata": {
        "button": false,
        "execution": {
          "iopub.execute_input": "2021-06-02T15:40:20.892642Z",
          "iopub.status.busy": "2021-06-02T15:40:20.892073Z",
          "iopub.status.idle": "2021-06-02T15:40:20.893462Z",
          "shell.execute_reply": "2021-06-02T15:40:20.893833Z"
        },
        "new_sheet": false,
        "run_control": {
          "read_only": false
        },
        "id": "4jaiCRfcth4o"
      },
      "source": [
        "assert my_sqrt(4) == 2"
      ],
      "execution_count": null,
      "outputs": []
    },
    {
      "cell_type": "markdown",
      "metadata": {
        "button": false,
        "new_sheet": false,
        "run_control": {
          "read_only": false
        },
        "id": "J6CaJCyBth4q"
      },
      "source": [
        "As you execute this line of code, nothing happens: We just have shown (or asserted) that our implementation indeed produces $\\sqrt{4} = 2$."
      ]
    },
    {
      "cell_type": "markdown",
      "metadata": {
        "button": false,
        "new_sheet": false,
        "run_control": {
          "read_only": false
        },
        "id": "D5Cn9xl0th4r"
      },
      "source": [
        "Remember, though, that floating-point computations may induce rounding errors.  So we cannot simply compare two floating-point values with equality; rather, we would ensure that the absolute difference between them stays below a certain threshold value, typically denoted as $\\epsilon$ or ``epsilon``.  This is how we can do it:"
      ]
    },
    {
      "cell_type": "code",
      "metadata": {
        "button": false,
        "execution": {
          "iopub.execute_input": "2021-06-02T15:40:20.896974Z",
          "iopub.status.busy": "2021-06-02T15:40:20.896263Z",
          "iopub.status.idle": "2021-06-02T15:40:20.898563Z",
          "shell.execute_reply": "2021-06-02T15:40:20.899473Z"
        },
        "new_sheet": false,
        "run_control": {
          "read_only": false
        },
        "id": "zQR3pCnkth4z"
      },
      "source": [
        "EPSILON = 1e-8"
      ],
      "execution_count": null,
      "outputs": []
    },
    {
      "cell_type": "code",
      "metadata": {
        "button": false,
        "execution": {
          "iopub.execute_input": "2021-06-02T15:40:20.903182Z",
          "iopub.status.busy": "2021-06-02T15:40:20.902550Z",
          "iopub.status.idle": "2021-06-02T15:40:20.904200Z",
          "shell.execute_reply": "2021-06-02T15:40:20.904574Z"
        },
        "new_sheet": false,
        "run_control": {
          "read_only": false
        },
        "id": "puZ97v5hth43"
      },
      "source": [
        "assert abs(my_sqrt(4) - 2) < EPSILON"
      ],
      "execution_count": null,
      "outputs": []
    },
    {
      "cell_type": "markdown",
      "metadata": {
        "button": false,
        "new_sheet": false,
        "run_control": {
          "read_only": false
        },
        "id": "Nt4l6DVcth44"
      },
      "source": [
        "We can also introduce a special function for this purpose, and now do more tests for concrete values:"
      ]
    },
    {
      "cell_type": "code",
      "metadata": {
        "button": false,
        "execution": {
          "iopub.execute_input": "2021-06-02T15:40:20.908256Z",
          "iopub.status.busy": "2021-06-02T15:40:20.907242Z",
          "iopub.status.idle": "2021-06-02T15:40:20.909270Z",
          "shell.execute_reply": "2021-06-02T15:40:20.909649Z"
        },
        "new_sheet": false,
        "run_control": {
          "read_only": false
        },
        "id": "VishOO64th46"
      },
      "source": [
        "def assertEquals(x, y, epsilon=1e-8):\n",
        "    assert abs(x - y) < epsilon"
      ],
      "execution_count": null,
      "outputs": []
    },
    {
      "cell_type": "code",
      "metadata": {
        "button": false,
        "execution": {
          "iopub.execute_input": "2021-06-02T15:40:20.913195Z",
          "iopub.status.busy": "2021-06-02T15:40:20.912475Z",
          "iopub.status.idle": "2021-06-02T15:40:20.914467Z",
          "shell.execute_reply": "2021-06-02T15:40:20.914907Z"
        },
        "new_sheet": false,
        "run_control": {
          "read_only": false
        },
        "id": "Rdt17vPqth48"
      },
      "source": [
        "assertEquals(my_sqrt(4), 2)\n",
        "assertEquals(my_sqrt(9), 3)\n",
        "assertEquals(my_sqrt(100), 10)"
      ],
      "execution_count": null,
      "outputs": []
    },
    {
      "cell_type": "markdown",
      "metadata": {
        "button": false,
        "new_sheet": false,
        "run_control": {
          "read_only": false
        },
        "id": "Ep75aKp5th4_"
      },
      "source": [
        "Seems to work, right?  If we know the expected results of a computation, we can use such assertions again and again to ensure our program works correctly."
      ]
    },
    {
      "cell_type": "markdown",
      "metadata": {
        "button": false,
        "new_sheet": false,
        "run_control": {
          "read_only": false
        },
        "id": "LWg6D0Lhth5E"
      },
      "source": [
        "## Generating Tests\n",
        "\n",
        "Remember that the property $\\sqrt{x} \\times \\sqrt{x} = x$ universally holds?  We can also explicitly test this with a few values:"
      ]
    },
    {
      "cell_type": "code",
      "metadata": {
        "button": false,
        "execution": {
          "iopub.execute_input": "2021-06-02T15:40:20.919128Z",
          "iopub.status.busy": "2021-06-02T15:40:20.918424Z",
          "iopub.status.idle": "2021-06-02T15:40:20.920448Z",
          "shell.execute_reply": "2021-06-02T15:40:20.920908Z"
        },
        "new_sheet": false,
        "run_control": {
          "read_only": false
        },
        "id": "CZPgO7sBth5F"
      },
      "source": [
        "assertEquals(my_sqrt(2) * my_sqrt(2), 2)\n",
        "assertEquals(my_sqrt(3) * my_sqrt(3), 3)\n",
        "assertEquals(my_sqrt(42.11) * my_sqrt(42.11), 42.11)"
      ],
      "execution_count": null,
      "outputs": []
    },
    {
      "cell_type": "markdown",
      "metadata": {
        "button": false,
        "new_sheet": false,
        "run_control": {
          "read_only": false
        },
        "id": "HWxYaHFQth5I"
      },
      "source": [
        "Still seems to work, right?  Most importantly, though, $\\sqrt{x} \\times \\sqrt{x} = x$ is something we can very easily test for thousands of values:"
      ]
    },
    {
      "cell_type": "code",
      "metadata": {
        "button": false,
        "execution": {
          "iopub.execute_input": "2021-06-02T15:40:20.926445Z",
          "iopub.status.busy": "2021-06-02T15:40:20.925857Z",
          "iopub.status.idle": "2021-06-02T15:40:20.927462Z",
          "shell.execute_reply": "2021-06-02T15:40:20.927834Z"
        },
        "new_sheet": false,
        "run_control": {
          "read_only": false
        },
        "id": "9jjdc8Moth5J"
      },
      "source": [
        "for n in range(1, 1000):\n",
        "    assertEquals(my_sqrt(n) * my_sqrt(n), n)"
      ],
      "execution_count": null,
      "outputs": []
    },
    {
      "cell_type": "markdown",
      "metadata": {
        "button": false,
        "new_sheet": false,
        "run_control": {
          "read_only": false
        },
        "id": "M5R7zggxth5k"
      },
      "source": [
        "## Run-Time Verification\n",
        "\n",
        "Instead of writing and running tests for `my_sqrt()`, we can also go and _integrate the check right into the implementation._  This way, _each and every_ invocation of `my_sqrt()` will be automatically checked."
      ]
    },
    {
      "cell_type": "markdown",
      "metadata": {
        "button": false,
        "new_sheet": false,
        "run_control": {
          "read_only": false
        },
        "id": "rWsgfrNWth5l"
      },
      "source": [
        "Such an _automatic run-time check_ is very easy to implement:"
      ]
    },
    {
      "cell_type": "code",
      "metadata": {
        "button": false,
        "execution": {
          "iopub.execute_input": "2021-06-02T15:40:21.162060Z",
          "iopub.status.busy": "2021-06-02T15:40:21.161449Z",
          "iopub.status.idle": "2021-06-02T15:40:21.163002Z",
          "shell.execute_reply": "2021-06-02T15:40:21.163394Z"
        },
        "new_sheet": false,
        "run_control": {
          "read_only": false
        },
        "id": "-FwCV-2Mth5n"
      },
      "source": [
        "def my_sqrt_checked(x):\n",
        "    root = my_sqrt(x)\n",
        "    assertEquals(root * root, x)\n",
        "    return root"
      ],
      "execution_count": null,
      "outputs": []
    },
    {
      "cell_type": "markdown",
      "metadata": {
        "button": false,
        "new_sheet": false,
        "run_control": {
          "read_only": false
        },
        "id": "9vbcbiGxth5o"
      },
      "source": [
        "Now, whenever we compute a root with `my_sqrt_checked()`$\\dots$"
      ]
    },
    {
      "cell_type": "code",
      "metadata": {
        "button": false,
        "execution": {
          "iopub.execute_input": "2021-06-02T15:40:21.167017Z",
          "iopub.status.busy": "2021-06-02T15:40:21.166334Z",
          "iopub.status.idle": "2021-06-02T15:40:21.168619Z",
          "shell.execute_reply": "2021-06-02T15:40:21.169070Z"
        },
        "new_sheet": false,
        "run_control": {
          "read_only": false
        },
        "id": "s4h2lyFpth5q"
      },
      "source": [
        "my_sqrt_checked(2.0)"
      ],
      "execution_count": null,
      "outputs": []
    },
    {
      "cell_type": "markdown",
      "metadata": {
        "button": false,
        "new_sheet": false,
        "run_control": {
          "read_only": false
        },
        "id": "1zdVza0dth5r"
      },
      "source": [
        "we already know that the result is correct, and will so for every new successful computation."
      ]
    },
    {
      "cell_type": "markdown",
      "metadata": {
        "button": false,
        "new_sheet": false,
        "run_control": {
          "read_only": false
        },
        "id": "JrQ5Vi9dth5s"
      },
      "source": [
        "Automatic run-time checks, as above, assume two things, though:\n",
        "\n",
        "* One has to be able to _formulate_ such run-time checks.  Having concrete values to check against should always be possible, but formulating desired properties in an abstract fashion can be very complex.  In practice, you need to decide which properties are most crucial, and design appropriate checks for them.  Plus, run-time checks may depend not only on local properties, but on several properties of the program state, which all have to be identified.\n",
        "\n",
        "* One has to be able to _afford_ such run-time checks.  In the case of `my_sqrt()`, the check is not very expensive; but if we have to check, say, a large data structure even after a simple operation, the cost of the check may soon be prohibitive.  In practice, run-time checks will typically be disabled during production, trading reliability for efficiency.  On the other hand, a comprehensive suite of run-time checks is a great way to find errors and quickly debug them; you need to decide how many such capabilities you would still want during production."
      ]
    },
    {
      "cell_type": "markdown",
      "metadata": {
        "button": false,
        "new_sheet": false,
        "run_control": {
          "read_only": false
        },
        "id": "dRP28m18th5u"
      },
      "source": [
        "## System Input vs Function Input"
      ]
    },
    {
      "cell_type": "markdown",
      "metadata": {
        "button": false,
        "new_sheet": false,
        "run_control": {
          "read_only": false
        },
        "id": "PMJXZEXnth5w"
      },
      "source": [
        "At this point, we may make `my_sqrt()` available to other programmers, who may then embed it in their code.  At some point, it will have to process input that comes from _third parties_, i.e. is not under control by the programmer."
      ]
    },
    {
      "cell_type": "markdown",
      "metadata": {
        "button": false,
        "new_sheet": false,
        "run_control": {
          "read_only": false
        },
        "id": "pOCVmbgBth5y"
      },
      "source": [
        "Let us simulate this *system input* by assuming a _program_ `sqrt_program()` whose input is a string under third-party control:"
      ]
    },
    {
      "cell_type": "code",
      "metadata": {
        "execution": {
          "iopub.execute_input": "2021-06-02T15:40:21.172975Z",
          "iopub.status.busy": "2021-06-02T15:40:21.172407Z",
          "iopub.status.idle": "2021-06-02T15:40:21.173900Z",
          "shell.execute_reply": "2021-06-02T15:40:21.174271Z"
        },
        "id": "78coRqTWth5z"
      },
      "source": [
        "def sqrt_program(arg):\n",
        "    x = int(arg)\n",
        "    print('The root of', x, 'is', my_sqrt(x))"
      ],
      "execution_count": null,
      "outputs": []
    },
    {
      "cell_type": "markdown",
      "metadata": {
        "id": "OwAUSSFath50"
      },
      "source": [
        "We assume that `sqrt_program` is a program which accepts system input from the command line, as in\n",
        "\n",
        "```shell\n",
        "$ sqrt_program 4\n",
        "2\n",
        "```"
      ]
    },
    {
      "cell_type": "markdown",
      "metadata": {
        "button": false,
        "new_sheet": false,
        "run_control": {
          "read_only": false
        },
        "id": "0o_kKu3Ath5-"
      },
      "source": [
        "We can easily invoke `sqrt_program()` with some system input:"
      ]
    },
    {
      "cell_type": "code",
      "metadata": {
        "button": false,
        "execution": {
          "iopub.execute_input": "2021-06-02T15:40:21.177499Z",
          "iopub.status.busy": "2021-06-02T15:40:21.176951Z",
          "iopub.status.idle": "2021-06-02T15:40:21.178838Z",
          "shell.execute_reply": "2021-06-02T15:40:21.179271Z"
        },
        "new_sheet": false,
        "run_control": {
          "read_only": false
        },
        "id": "eR4_9X_xth5_"
      },
      "source": [
        "sqrt_program(\"4\")"
      ],
      "execution_count": null,
      "outputs": []
    },
    {
      "cell_type": "markdown",
      "metadata": {
        "button": false,
        "new_sheet": false,
        "run_control": {
          "read_only": false
        },
        "id": "Q2-YaGQKth6B"
      },
      "source": [
        "What's the problem?  Well, the problem is that we do not check external inputs for validity.  Try invoking `sqrt_program(-1)`, for instance.  What happens?"
      ]
    },
    {
      "cell_type": "markdown",
      "metadata": {
        "button": false,
        "new_sheet": false,
        "run_control": {
          "read_only": false
        },
        "id": "vfVi4n7qth6C"
      },
      "source": [
        "Indeed, if you invoke `my_sqrt()` with a negative number, it enters an infinite loop.  For technical reasons, we cannot have infinite loops in this chapter (unless we'd want the code to run forever); so we use a special `with ExpectTimeOut(1)` construct to interrupt execution after one second."
      ]
    },
    {
      "cell_type": "code",
      "metadata": {
        "button": false,
        "execution": {
          "iopub.execute_input": "2021-06-02T15:40:21.182915Z",
          "iopub.status.busy": "2021-06-02T15:40:21.182126Z",
          "iopub.status.idle": "2021-06-02T15:40:21.200723Z",
          "shell.execute_reply": "2021-06-02T15:40:21.201186Z"
        },
        "new_sheet": false,
        "run_control": {
          "read_only": false
        },
        "id": "vL1DXK5Yth6D"
      },
      "source": [
        "from fuzzingbook.ExpectError import ExpectTimeout"
      ],
      "execution_count": null,
      "outputs": []
    },
    {
      "cell_type": "code",
      "metadata": {
        "button": false,
        "execution": {
          "iopub.execute_input": "2021-06-02T15:40:21.286343Z",
          "iopub.status.busy": "2021-06-02T15:40:21.245018Z",
          "iopub.status.idle": "2021-06-02T15:40:22.206373Z",
          "shell.execute_reply": "2021-06-02T15:40:22.206816Z"
        },
        "new_sheet": false,
        "run_control": {
          "read_only": false
        },
        "id": "pFnVGRD6th6K"
      },
      "source": [
        "with ExpectTimeout(1):\n",
        "    sqrt_program(\"-1\")"
      ],
      "execution_count": null,
      "outputs": []
    },
    {
      "cell_type": "markdown",
      "metadata": {
        "button": false,
        "new_sheet": false,
        "run_control": {
          "read_only": false
        },
        "id": "ibG5pPugth6L"
      },
      "source": [
        "The above message is an _error message_, indicating that something went wrong.  It lists the *call stack* of functions and lines that were active at the time of the error.  The line at the very bottom is the line last executed; the lines above represent function invocations – in our case, up to `my_sqrt(x)`.\n",
        "\n",
        "We don't want our code terminating with an exception.  Consequently, when accepting external input, we must ensure that it is properly validated.  We may write, for instance:"
      ]
    },
    {
      "cell_type": "code",
      "metadata": {
        "button": false,
        "execution": {
          "iopub.execute_input": "2021-06-02T15:40:22.210824Z",
          "iopub.status.busy": "2021-06-02T15:40:22.210298Z",
          "iopub.status.idle": "2021-06-02T15:40:22.212016Z",
          "shell.execute_reply": "2021-06-02T15:40:22.212392Z"
        },
        "new_sheet": false,
        "run_control": {
          "read_only": false
        },
        "id": "mUpHxncath6O"
      },
      "source": [
        "def sqrt_program(arg):\n",
        "    x = int(arg)\n",
        "    if x < 0:\n",
        "        print(\"Illegal Input\")\n",
        "    else:\n",
        "        print('The root of', x, 'is', my_sqrt(x))"
      ],
      "execution_count": null,
      "outputs": []
    },
    {
      "cell_type": "markdown",
      "metadata": {
        "button": false,
        "new_sheet": false,
        "run_control": {
          "read_only": false
        },
        "id": "_86Hp-p5th6P"
      },
      "source": [
        "and then we can be sure that `my_sqrt()` is only invoked according to its specification."
      ]
    },
    {
      "cell_type": "code",
      "metadata": {
        "button": false,
        "execution": {
          "iopub.execute_input": "2021-06-02T15:40:22.215980Z",
          "iopub.status.busy": "2021-06-02T15:40:22.215403Z",
          "iopub.status.idle": "2021-06-02T15:40:22.217828Z",
          "shell.execute_reply": "2021-06-02T15:40:22.217442Z"
        },
        "new_sheet": false,
        "run_control": {
          "read_only": false
        },
        "id": "JwZAWl4Yth6R"
      },
      "source": [
        "sqrt_program(\"-1\")"
      ],
      "execution_count": null,
      "outputs": []
    },
    {
      "cell_type": "markdown",
      "metadata": {
        "button": false,
        "new_sheet": false,
        "run_control": {
          "read_only": false
        },
        "id": "qQw3Pwj3th6T"
      },
      "source": [
        "But wait!  What happens if `sqrt_program()` is not invoked with a number?  Then we would try to convert a non-number string, which would also result in a runtime error:"
      ]
    },
    {
      "cell_type": "code",
      "metadata": {
        "button": false,
        "execution": {
          "iopub.execute_input": "2021-06-02T15:40:22.220811Z",
          "iopub.status.busy": "2021-06-02T15:40:22.220274Z",
          "iopub.status.idle": "2021-06-02T15:40:22.221795Z",
          "shell.execute_reply": "2021-06-02T15:40:22.222169Z"
        },
        "new_sheet": false,
        "run_control": {
          "read_only": false
        },
        "id": "FLjjf_8Bth6U"
      },
      "source": [
        "from fuzzingbook.ExpectError import ExpectError"
      ],
      "execution_count": null,
      "outputs": []
    },
    {
      "cell_type": "code",
      "metadata": {
        "button": false,
        "execution": {
          "iopub.execute_input": "2021-06-02T15:40:22.225396Z",
          "iopub.status.busy": "2021-06-02T15:40:22.224833Z",
          "iopub.status.idle": "2021-06-02T15:40:22.227329Z",
          "shell.execute_reply": "2021-06-02T15:40:22.227713Z"
        },
        "new_sheet": false,
        "run_control": {
          "read_only": false
        },
        "id": "uw0KcPqUth6W"
      },
      "source": [
        "with ExpectError():\n",
        "    sqrt_program(\"xyzzy\")"
      ],
      "execution_count": null,
      "outputs": []
    },
    {
      "cell_type": "markdown",
      "metadata": {
        "button": false,
        "new_sheet": false,
        "run_control": {
          "read_only": false
        },
        "id": "AC6dViugth6e"
      },
      "source": [
        "Here's a version which also checks for bad inputs:"
      ]
    },
    {
      "cell_type": "code",
      "metadata": {
        "button": false,
        "execution": {
          "iopub.execute_input": "2021-06-02T15:40:22.231534Z",
          "iopub.status.busy": "2021-06-02T15:40:22.230957Z",
          "iopub.status.idle": "2021-06-02T15:40:22.232816Z",
          "shell.execute_reply": "2021-06-02T15:40:22.233256Z"
        },
        "new_sheet": false,
        "run_control": {
          "read_only": false
        },
        "id": "ZyNIDo4oth6f"
      },
      "source": [
        "def sqrt_program(arg):\n",
        "    try:\n",
        "        x = float(arg)\n",
        "    except ValueError:\n",
        "        print(\"Illegal Input\")\n",
        "    else:\n",
        "        if x < 0:\n",
        "            print(\"Illegal Number\")\n",
        "        else:\n",
        "            print('The root of', x, 'is', my_sqrt(x))"
      ],
      "execution_count": null,
      "outputs": []
    },
    {
      "cell_type": "code",
      "metadata": {
        "button": false,
        "execution": {
          "iopub.execute_input": "2021-06-02T15:40:22.236204Z",
          "iopub.status.busy": "2021-06-02T15:40:22.235663Z",
          "iopub.status.idle": "2021-06-02T15:40:22.238273Z",
          "shell.execute_reply": "2021-06-02T15:40:22.237909Z"
        },
        "new_sheet": false,
        "run_control": {
          "read_only": false
        },
        "id": "6Iq5egdjth6h"
      },
      "source": [
        "sqrt_program(\"4\")"
      ],
      "execution_count": null,
      "outputs": []
    },
    {
      "cell_type": "code",
      "metadata": {
        "button": false,
        "execution": {
          "iopub.execute_input": "2021-06-02T15:40:22.241513Z",
          "iopub.status.busy": "2021-06-02T15:40:22.240962Z",
          "iopub.status.idle": "2021-06-02T15:40:22.242778Z",
          "shell.execute_reply": "2021-06-02T15:40:22.243168Z"
        },
        "new_sheet": false,
        "run_control": {
          "read_only": false
        },
        "id": "DjuPBfQrth6m"
      },
      "source": [
        "sqrt_program(\"-1\")"
      ],
      "execution_count": null,
      "outputs": []
    },
    {
      "cell_type": "code",
      "metadata": {
        "button": false,
        "execution": {
          "iopub.execute_input": "2021-06-02T15:40:22.246003Z",
          "iopub.status.busy": "2021-06-02T15:40:22.245490Z",
          "iopub.status.idle": "2021-06-02T15:40:22.247284Z",
          "shell.execute_reply": "2021-06-02T15:40:22.247657Z"
        },
        "new_sheet": false,
        "run_control": {
          "read_only": false
        },
        "id": "WNDYNQuYth6x"
      },
      "source": [
        "sqrt_program(\"xyzzy\")"
      ],
      "execution_count": null,
      "outputs": []
    },
    {
      "cell_type": "markdown",
      "metadata": {
        "button": false,
        "new_sheet": false,
        "run_control": {
          "read_only": false
        },
        "id": "Nh1z8WPdth6y"
      },
      "source": [
        "We have now seen that at the system level, the program must be able to handle any kind of input gracefully without ever entering an uncontrolled state.  This, of course, is a burden for programmers, who must struggle to make their programs robust for all circumstances.  This burden, however, becomes a _benefit_ when generating software tests: If a program can handle any kind of input (possibly with well-defined error messages), we can also _send it any kind of input_.  When calling a function with generated values, though, we have to _know_ its precise preconditions."
      ]
    },
    {
      "cell_type": "markdown",
      "metadata": {
        "button": false,
        "new_sheet": false,
        "run_control": {
          "read_only": false
        },
        "id": "S4bFVSwMth60"
      },
      "source": [
        "## The Limits of Testing\n",
        "\n",
        "Despite best efforts in testing, keep in mind that you are always checking functionality for a _finite_ set of inputs.  Thus, there may always be _untested_ inputs for which the function may still fail."
      ]
    },
    {
      "cell_type": "markdown",
      "metadata": {
        "button": false,
        "new_sheet": false,
        "run_control": {
          "read_only": false
        },
        "id": "zf1m_03-th61"
      },
      "source": [
        "In the case of `my_sqrt()`, for instance, computing $\\sqrt{0}$ results in a division by zero:"
      ]
    },
    {
      "cell_type": "code",
      "metadata": {
        "button": false,
        "execution": {
          "iopub.execute_input": "2021-06-02T15:40:22.251895Z",
          "iopub.status.busy": "2021-06-02T15:40:22.251258Z",
          "iopub.status.idle": "2021-06-02T15:40:22.253347Z",
          "shell.execute_reply": "2021-06-02T15:40:22.253758Z"
        },
        "new_sheet": false,
        "run_control": {
          "read_only": false
        },
        "id": "HinGKsCGth62"
      },
      "source": [
        "with ExpectError():\n",
        "    root = my_sqrt(0)"
      ],
      "execution_count": null,
      "outputs": []
    },
    {
      "cell_type": "markdown",
      "metadata": {
        "button": false,
        "new_sheet": false,
        "run_control": {
          "read_only": false
        },
        "id": "LYY58_7hth64"
      },
      "source": [
        "In our tests so far, we have not checked this condition, meaning that a program which builds on $\\sqrt{0} = 0$ will surprisingly fail.  But even if we had set up our random generator to produce inputs in the range of 0–1000000 rather than 1–1000000, the chances of it producing a zero value by chance would still have been one in a million.  If the behavior of a function is radically different for few individual values, plain random testing has few chances to produce these."
      ]
    },
    {
      "cell_type": "markdown",
      "metadata": {
        "button": false,
        "new_sheet": false,
        "run_control": {
          "read_only": false
        },
        "id": "ffczf2pXth65"
      },
      "source": [
        "We can, of course, fix the function accordingly, documenting the accepted values for `x` and handling the special case `x = 0`:"
      ]
    },
    {
      "cell_type": "code",
      "metadata": {
        "button": false,
        "execution": {
          "iopub.execute_input": "2021-06-02T15:40:22.257185Z",
          "iopub.status.busy": "2021-06-02T15:40:22.256678Z",
          "iopub.status.idle": "2021-06-02T15:40:22.258342Z",
          "shell.execute_reply": "2021-06-02T15:40:22.258721Z"
        },
        "new_sheet": false,
        "run_control": {
          "read_only": false
        },
        "id": "jjrPesReth67"
      },
      "source": [
        "def my_sqrt_fixed(x):\n",
        "    assert 0 <= x\n",
        "    if x == 0:\n",
        "        return 0\n",
        "    return my_sqrt(x)"
      ],
      "execution_count": null,
      "outputs": []
    },
    {
      "cell_type": "markdown",
      "metadata": {
        "button": false,
        "new_sheet": false,
        "run_control": {
          "read_only": false
        },
        "id": "tPrzsgWfth69"
      },
      "source": [
        "With this, we can now correctly compute $\\sqrt{0} = 0$:"
      ]
    },
    {
      "cell_type": "code",
      "metadata": {
        "button": false,
        "execution": {
          "iopub.execute_input": "2021-06-02T15:40:22.262078Z",
          "iopub.status.busy": "2021-06-02T15:40:22.261532Z",
          "iopub.status.idle": "2021-06-02T15:40:22.263156Z",
          "shell.execute_reply": "2021-06-02T15:40:22.263526Z"
        },
        "new_sheet": false,
        "run_control": {
          "read_only": false
        },
        "id": "6opoyMZFth6_"
      },
      "source": [
        "assert my_sqrt_fixed(0) == 0"
      ],
      "execution_count": null,
      "outputs": []
    },
    {
      "cell_type": "markdown",
      "metadata": {
        "button": false,
        "new_sheet": false,
        "run_control": {
          "read_only": false
        },
        "id": "ppUYwF3lth7A"
      },
      "source": [
        "Illegal values now result in an exception:\n"
      ]
    },
    {
      "cell_type": "code",
      "metadata": {
        "button": false,
        "execution": {
          "iopub.execute_input": "2021-06-02T15:40:22.266715Z",
          "iopub.status.busy": "2021-06-02T15:40:22.266071Z",
          "iopub.status.idle": "2021-06-02T15:40:22.268541Z",
          "shell.execute_reply": "2021-06-02T15:40:22.268981Z"
        },
        "new_sheet": false,
        "run_control": {
          "read_only": false
        },
        "id": "q9ibe3IWth7D"
      },
      "source": [
        "with ExpectError():\n",
        "    root = my_sqrt_fixed(-1)"
      ],
      "execution_count": null,
      "outputs": []
    },
    {
      "cell_type": "markdown",
      "metadata": {
        "button": false,
        "new_sheet": false,
        "run_control": {
          "read_only": false
        },
        "id": "yT9driPIth7G"
      },
      "source": [
        "Still, we have to remember that while extensive testing may give us a high confidence into the correctness of a program, it does not provide a guarantee that all future executions will be correct.  Even run-time verification, which checks every result, can only guarantee that _if_ it produces a result, the result will be correct; but there is no guarantee that future executions may not lead to a failing check.  As I am writing this, I _believe_ that `my_sqrt_fixed(x)` is a correct implementation of $\\sqrt{x}$ for all finite numbers $x$, but I cannot be certain."
      ]
    },
    {
      "cell_type": "markdown",
      "metadata": {
        "run_control": {},
        "id": "O24Hm-6dth7O"
      },
      "source": [
        "## Lessons Learned\n",
        "\n",
        "* The aim of testing is to execute a program such that we find bugs.\n",
        "* Test execution, test generation, and checking test results can be automated.\n",
        "* Testing is _incomplete_; it provides no 100% guarantee that the code is free of errors."
      ]
    }
  ]
}